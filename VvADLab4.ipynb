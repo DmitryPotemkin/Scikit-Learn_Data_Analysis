{
 "cells": [
  {
   "cell_type": "markdown",
   "id": "7ba98a45",
   "metadata": {},
   "source": [
    "# Применение методов классификации"
   ]
  },
  {
   "cell_type": "markdown",
   "id": "e2339274",
   "metadata": {},
   "source": [
    "Импорты библиотек:"
   ]
  },
  {
   "cell_type": "code",
   "execution_count": 1,
   "id": "4f6157ae",
   "metadata": {},
   "outputs": [],
   "source": [
    "import pandas as pd\n",
    "import numpy as np\n",
    "import seaborn as sns\n",
    "import matplotlib.pyplot as plt\n",
    "from sklearn.metrics import confusion_matrix, ConfusionMatrixDisplay\n",
    "from sklearn.preprocessing import StandardScaler\n",
    "from sklearn.model_selection import train_test_split\n",
    "from sklearn.neighbors import KNeighborsClassifier\n",
    "from sklearn.linear_model import LogisticRegression\n",
    "from sklearn.ensemble import RandomForestClassifier\n",
    "from sklearn.metrics import accuracy_score, precision_score, recall_score, balanced_accuracy_score\n",
    "from sklearn.metrics import f1_score, confusion_matrix, roc_auc_score, roc_curve, auc"
   ]
  },
  {
   "cell_type": "markdown",
   "id": "71156b4d",
   "metadata": {},
   "source": [
    "### Проведём предварительную обработку данных:"
   ]
  },
  {
   "cell_type": "markdown",
   "id": "28b7acf1",
   "metadata": {},
   "source": [
    "Импортируем датафрейм:"
   ]
  },
  {
   "cell_type": "code",
   "execution_count": 2,
   "id": "3f2396c4",
   "metadata": {},
   "outputs": [
    {
     "data": {
      "text/html": [
       "<div>\n",
       "<style scoped>\n",
       "    .dataframe tbody tr th:only-of-type {\n",
       "        vertical-align: middle;\n",
       "    }\n",
       "\n",
       "    .dataframe tbody tr th {\n",
       "        vertical-align: top;\n",
       "    }\n",
       "\n",
       "    .dataframe thead th {\n",
       "        text-align: right;\n",
       "    }\n",
       "</style>\n",
       "<table border=\"1\" class=\"dataframe\">\n",
       "  <thead>\n",
       "    <tr style=\"text-align: right;\">\n",
       "      <th></th>\n",
       "      <th>gender</th>\n",
       "      <th>Near_Location</th>\n",
       "      <th>Partner</th>\n",
       "      <th>Promo_friends</th>\n",
       "      <th>Phone</th>\n",
       "      <th>Contract_period</th>\n",
       "      <th>Group_visits</th>\n",
       "      <th>Age</th>\n",
       "      <th>Avg_additional_charges_total</th>\n",
       "      <th>Month_to_end_contract</th>\n",
       "      <th>Lifetime</th>\n",
       "      <th>Avg_class_frequency_total</th>\n",
       "      <th>Avg_class_frequency_current_month</th>\n",
       "      <th>Churn</th>\n",
       "    </tr>\n",
       "  </thead>\n",
       "  <tbody>\n",
       "    <tr>\n",
       "      <th>0</th>\n",
       "      <td>1</td>\n",
       "      <td>1</td>\n",
       "      <td>1</td>\n",
       "      <td>1</td>\n",
       "      <td>0</td>\n",
       "      <td>6</td>\n",
       "      <td>1</td>\n",
       "      <td>29</td>\n",
       "      <td>14.227470</td>\n",
       "      <td>5.0</td>\n",
       "      <td>3</td>\n",
       "      <td>0.020398</td>\n",
       "      <td>0.000000</td>\n",
       "      <td>0</td>\n",
       "    </tr>\n",
       "    <tr>\n",
       "      <th>1</th>\n",
       "      <td>0</td>\n",
       "      <td>1</td>\n",
       "      <td>0</td>\n",
       "      <td>0</td>\n",
       "      <td>1</td>\n",
       "      <td>12</td>\n",
       "      <td>1</td>\n",
       "      <td>31</td>\n",
       "      <td>113.202938</td>\n",
       "      <td>12.0</td>\n",
       "      <td>7</td>\n",
       "      <td>1.922936</td>\n",
       "      <td>1.910244</td>\n",
       "      <td>0</td>\n",
       "    </tr>\n",
       "    <tr>\n",
       "      <th>2</th>\n",
       "      <td>0</td>\n",
       "      <td>1</td>\n",
       "      <td>1</td>\n",
       "      <td>0</td>\n",
       "      <td>1</td>\n",
       "      <td>1</td>\n",
       "      <td>0</td>\n",
       "      <td>28</td>\n",
       "      <td>129.448479</td>\n",
       "      <td>1.0</td>\n",
       "      <td>2</td>\n",
       "      <td>1.859098</td>\n",
       "      <td>1.736502</td>\n",
       "      <td>0</td>\n",
       "    </tr>\n",
       "    <tr>\n",
       "      <th>3</th>\n",
       "      <td>0</td>\n",
       "      <td>1</td>\n",
       "      <td>1</td>\n",
       "      <td>1</td>\n",
       "      <td>1</td>\n",
       "      <td>12</td>\n",
       "      <td>1</td>\n",
       "      <td>33</td>\n",
       "      <td>62.669863</td>\n",
       "      <td>12.0</td>\n",
       "      <td>2</td>\n",
       "      <td>3.205633</td>\n",
       "      <td>3.357215</td>\n",
       "      <td>0</td>\n",
       "    </tr>\n",
       "    <tr>\n",
       "      <th>4</th>\n",
       "      <td>1</td>\n",
       "      <td>1</td>\n",
       "      <td>1</td>\n",
       "      <td>1</td>\n",
       "      <td>1</td>\n",
       "      <td>1</td>\n",
       "      <td>0</td>\n",
       "      <td>26</td>\n",
       "      <td>198.362265</td>\n",
       "      <td>1.0</td>\n",
       "      <td>3</td>\n",
       "      <td>1.113884</td>\n",
       "      <td>1.120078</td>\n",
       "      <td>0</td>\n",
       "    </tr>\n",
       "  </tbody>\n",
       "</table>\n",
       "</div>"
      ],
      "text/plain": [
       "   gender  Near_Location  Partner  Promo_friends  Phone  Contract_period  \\\n",
       "0       1              1        1              1      0                6   \n",
       "1       0              1        0              0      1               12   \n",
       "2       0              1        1              0      1                1   \n",
       "3       0              1        1              1      1               12   \n",
       "4       1              1        1              1      1                1   \n",
       "\n",
       "   Group_visits  Age  Avg_additional_charges_total  Month_to_end_contract  \\\n",
       "0             1   29                     14.227470                    5.0   \n",
       "1             1   31                    113.202938                   12.0   \n",
       "2             0   28                    129.448479                    1.0   \n",
       "3             1   33                     62.669863                   12.0   \n",
       "4             0   26                    198.362265                    1.0   \n",
       "\n",
       "   Lifetime  Avg_class_frequency_total  Avg_class_frequency_current_month  \\\n",
       "0         3                   0.020398                           0.000000   \n",
       "1         7                   1.922936                           1.910244   \n",
       "2         2                   1.859098                           1.736502   \n",
       "3         2                   3.205633                           3.357215   \n",
       "4         3                   1.113884                           1.120078   \n",
       "\n",
       "   Churn  \n",
       "0      0  \n",
       "1      0  \n",
       "2      0  \n",
       "3      0  \n",
       "4      0  "
      ]
     },
     "execution_count": 2,
     "metadata": {},
     "output_type": "execute_result"
    }
   ],
   "source": [
    "gym_df = pd.read_csv('C:/Users/dmitr/Downloads/5gym_churn.csv')\n",
    "gym_df.head(5)"
   ]
  },
  {
   "cell_type": "markdown",
   "id": "9ee2924a",
   "metadata": {},
   "source": [
    "Приведём названия столбцов к общему виду:"
   ]
  },
  {
   "cell_type": "code",
   "execution_count": 3,
   "id": "f7d3edb8",
   "metadata": {},
   "outputs": [
    {
     "data": {
      "text/plain": [
       "Index(['gender', 'Near_Location', 'Partner', 'Promo_friends', 'Phone',\n",
       "       'Contract_period', 'Group_visits', 'Age',\n",
       "       'Avg_additional_charges_total', 'Month_to_end_contract', 'Lifetime',\n",
       "       'Avg_class_frequency_total', 'Avg_class_frequency_current_month',\n",
       "       'Churn'],\n",
       "      dtype='object')"
      ]
     },
     "execution_count": 3,
     "metadata": {},
     "output_type": "execute_result"
    }
   ],
   "source": [
    "gym_df.columns"
   ]
  },
  {
   "cell_type": "code",
   "execution_count": 4,
   "id": "d8a9ea8c",
   "metadata": {},
   "outputs": [
    {
     "data": {
      "text/plain": [
       "Index(['Gender', 'Near_Location', 'Partner', 'Promo_friends', 'Phone',\n",
       "       'Contract_period', 'Group_visits', 'Age',\n",
       "       'Avg_additional_charges_total', 'Month_to_end_contract', 'Lifetime',\n",
       "       'Avg_class_frequency_total', 'Avg_class_frequency_current_month',\n",
       "       'Churn'],\n",
       "      dtype='object')"
      ]
     },
     "execution_count": 4,
     "metadata": {},
     "output_type": "execute_result"
    }
   ],
   "source": [
    "gym_df = gym_df.rename(columns={'gender': 'Gender'})\n",
    "gym_df.columns"
   ]
  },
  {
   "cell_type": "markdown",
   "id": "cf4258c1",
   "metadata": {},
   "source": [
    "Проверим датафрейм на наличие пропущеных значений:"
   ]
  },
  {
   "cell_type": "code",
   "execution_count": 5,
   "id": "41db2b8c",
   "metadata": {},
   "outputs": [
    {
     "data": {
      "text/plain": [
       "Gender                               0\n",
       "Near_Location                        0\n",
       "Partner                              0\n",
       "Promo_friends                        0\n",
       "Phone                                0\n",
       "Contract_period                      0\n",
       "Group_visits                         0\n",
       "Age                                  0\n",
       "Avg_additional_charges_total         0\n",
       "Month_to_end_contract                0\n",
       "Lifetime                             0\n",
       "Avg_class_frequency_total            0\n",
       "Avg_class_frequency_current_month    0\n",
       "Churn                                0\n",
       "dtype: int64"
      ]
     },
     "execution_count": 5,
     "metadata": {},
     "output_type": "execute_result"
    }
   ],
   "source": [
    "gym_df.isna().sum()"
   ]
  },
  {
   "cell_type": "markdown",
   "id": "68b5b4f0",
   "metadata": {},
   "source": [
    "Проверим датафрейм на наличие явных дубликатов:"
   ]
  },
  {
   "cell_type": "code",
   "execution_count": 6,
   "id": "30ee70b6",
   "metadata": {},
   "outputs": [
    {
     "name": "stdout",
     "output_type": "stream",
     "text": [
      "0\n"
     ]
    }
   ],
   "source": [
    "print(gym_df.duplicated().sum())"
   ]
  },
  {
   "cell_type": "markdown",
   "id": "fd61a134",
   "metadata": {},
   "source": [
    "Приведём столбец \"Month_to_end_contract\" к типу данных \"int64\":"
   ]
  },
  {
   "cell_type": "code",
   "execution_count": 7,
   "id": "adcd005e",
   "metadata": {},
   "outputs": [
    {
     "name": "stdout",
     "output_type": "stream",
     "text": [
      "<class 'pandas.core.frame.DataFrame'>\n",
      "RangeIndex: 4000 entries, 0 to 3999\n",
      "Data columns (total 14 columns):\n",
      " #   Column                             Non-Null Count  Dtype  \n",
      "---  ------                             --------------  -----  \n",
      " 0   Gender                             4000 non-null   int64  \n",
      " 1   Near_Location                      4000 non-null   int64  \n",
      " 2   Partner                            4000 non-null   int64  \n",
      " 3   Promo_friends                      4000 non-null   int64  \n",
      " 4   Phone                              4000 non-null   int64  \n",
      " 5   Contract_period                    4000 non-null   int64  \n",
      " 6   Group_visits                       4000 non-null   int64  \n",
      " 7   Age                                4000 non-null   int64  \n",
      " 8   Avg_additional_charges_total       4000 non-null   float64\n",
      " 9   Month_to_end_contract              4000 non-null   float64\n",
      " 10  Lifetime                           4000 non-null   int64  \n",
      " 11  Avg_class_frequency_total          4000 non-null   float64\n",
      " 12  Avg_class_frequency_current_month  4000 non-null   float64\n",
      " 13  Churn                              4000 non-null   int64  \n",
      "dtypes: float64(4), int64(10)\n",
      "memory usage: 437.6 KB\n"
     ]
    }
   ],
   "source": [
    "gym_df.info()"
   ]
  },
  {
   "cell_type": "code",
   "execution_count": 8,
   "id": "46440577",
   "metadata": {},
   "outputs": [
    {
     "data": {
      "text/plain": [
       "Gender                                 int64\n",
       "Near_Location                          int64\n",
       "Partner                                int64\n",
       "Promo_friends                          int64\n",
       "Phone                                  int64\n",
       "Contract_period                        int64\n",
       "Group_visits                           int64\n",
       "Age                                    int64\n",
       "Avg_additional_charges_total         float64\n",
       "Month_to_end_contract                  int64\n",
       "Lifetime                               int64\n",
       "Avg_class_frequency_total            float64\n",
       "Avg_class_frequency_current_month    float64\n",
       "Churn                                  int64\n",
       "dtype: object"
      ]
     },
     "execution_count": 8,
     "metadata": {},
     "output_type": "execute_result"
    }
   ],
   "source": [
    "gym_df.astype({'Month_to_end_contract': 'int64'}).dtypes"
   ]
  },
  {
   "cell_type": "markdown",
   "id": "ce87da80",
   "metadata": {},
   "source": [
    "Проверим датафрейм на наличие неявных дубликатов:"
   ]
  },
  {
   "cell_type": "code",
   "execution_count": 9,
   "id": "753a076c",
   "metadata": {},
   "outputs": [
    {
     "name": "stdout",
     "output_type": "stream",
     "text": [
      "Gender: [1 0]\n",
      "Near_Location: [1 0]\n",
      "Partner: [1 0]\n",
      "Promo_friends: [1 0]\n",
      "Phone: [0 1]\n",
      "Contract_period: [ 6 12  1]\n",
      "Group_visits: [1 0]\n",
      "Age: [29 31 28 33 26 34 32 30 23 27 35 25 36 24 21 37 22 19 20 38 39 18 41]\n",
      "Avg_additional_charges_total: [ 14.22747042 113.20293765 129.44847933 ...  78.25054157  61.91265691\n",
      " 178.86181361]\n",
      "Month_to_end_contract: [ 5. 12.  1.  6.  3. 10. 11.  9.  4.  7.  8.  2.]\n",
      "Avg_class_frequency_total: [0.02039795 1.92293606 1.85909835 ... 2.78614636 1.63010814 1.10183221]\n",
      "Avg_class_frequency_current_month: [0.         1.91024352 1.73650189 ... 2.8314395  1.59623664 1.03526976]\n",
      "Churn: [0 1]\n"
     ]
    }
   ],
   "source": [
    "print(\"Gender: \" + str(gym_df['Gender'].unique()))\n",
    "print(\"Near_Location: \" + str(gym_df['Near_Location'].unique()))\n",
    "print(\"Partner: \" + str(gym_df['Partner'].unique()))\n",
    "print(\"Promo_friends: \" + str(gym_df['Promo_friends'].unique()))\n",
    "print(\"Phone: \" + str(gym_df['Phone'].unique()))\n",
    "print(\"Contract_period: \" + str(gym_df['Contract_period'].unique()))\n",
    "print(\"Group_visits: \" + str(gym_df['Group_visits'].unique()))\n",
    "print(\"Age: \" + str(gym_df['Age'].unique()))\n",
    "print(\"Avg_additional_charges_total: \" + str(gym_df['Avg_additional_charges_total'].unique()))\n",
    "print(\"Month_to_end_contract: \" + str(gym_df['Month_to_end_contract'].unique()))\n",
    "print(\"Avg_class_frequency_total: \" + str(gym_df['Avg_class_frequency_total'].unique()))\n",
    "print(\"Avg_class_frequency_current_month: \" + str(gym_df['Avg_class_frequency_current_month'].unique()))\n",
    "print(\"Churn: \" + str(gym_df['Churn'].unique()))"
   ]
  },
  {
   "cell_type": "markdown",
   "id": "1e36db96",
   "metadata": {},
   "source": [
    "Обработка данных завершена:"
   ]
  },
  {
   "cell_type": "code",
   "execution_count": 10,
   "id": "5aa4e66e",
   "metadata": {
    "scrolled": true
   },
   "outputs": [
    {
     "data": {
      "text/html": [
       "<div>\n",
       "<style scoped>\n",
       "    .dataframe tbody tr th:only-of-type {\n",
       "        vertical-align: middle;\n",
       "    }\n",
       "\n",
       "    .dataframe tbody tr th {\n",
       "        vertical-align: top;\n",
       "    }\n",
       "\n",
       "    .dataframe thead th {\n",
       "        text-align: right;\n",
       "    }\n",
       "</style>\n",
       "<table border=\"1\" class=\"dataframe\">\n",
       "  <thead>\n",
       "    <tr style=\"text-align: right;\">\n",
       "      <th></th>\n",
       "      <th>Gender</th>\n",
       "      <th>Near_Location</th>\n",
       "      <th>Partner</th>\n",
       "      <th>Promo_friends</th>\n",
       "      <th>Phone</th>\n",
       "      <th>Contract_period</th>\n",
       "      <th>Group_visits</th>\n",
       "      <th>Age</th>\n",
       "      <th>Avg_additional_charges_total</th>\n",
       "      <th>Month_to_end_contract</th>\n",
       "      <th>Lifetime</th>\n",
       "      <th>Avg_class_frequency_total</th>\n",
       "      <th>Avg_class_frequency_current_month</th>\n",
       "      <th>Churn</th>\n",
       "    </tr>\n",
       "  </thead>\n",
       "  <tbody>\n",
       "    <tr>\n",
       "      <th>0</th>\n",
       "      <td>1</td>\n",
       "      <td>1</td>\n",
       "      <td>1</td>\n",
       "      <td>1</td>\n",
       "      <td>0</td>\n",
       "      <td>6</td>\n",
       "      <td>1</td>\n",
       "      <td>29</td>\n",
       "      <td>14.227470</td>\n",
       "      <td>5.0</td>\n",
       "      <td>3</td>\n",
       "      <td>0.020398</td>\n",
       "      <td>0.000000</td>\n",
       "      <td>0</td>\n",
       "    </tr>\n",
       "    <tr>\n",
       "      <th>1</th>\n",
       "      <td>0</td>\n",
       "      <td>1</td>\n",
       "      <td>0</td>\n",
       "      <td>0</td>\n",
       "      <td>1</td>\n",
       "      <td>12</td>\n",
       "      <td>1</td>\n",
       "      <td>31</td>\n",
       "      <td>113.202938</td>\n",
       "      <td>12.0</td>\n",
       "      <td>7</td>\n",
       "      <td>1.922936</td>\n",
       "      <td>1.910244</td>\n",
       "      <td>0</td>\n",
       "    </tr>\n",
       "    <tr>\n",
       "      <th>2</th>\n",
       "      <td>0</td>\n",
       "      <td>1</td>\n",
       "      <td>1</td>\n",
       "      <td>0</td>\n",
       "      <td>1</td>\n",
       "      <td>1</td>\n",
       "      <td>0</td>\n",
       "      <td>28</td>\n",
       "      <td>129.448479</td>\n",
       "      <td>1.0</td>\n",
       "      <td>2</td>\n",
       "      <td>1.859098</td>\n",
       "      <td>1.736502</td>\n",
       "      <td>0</td>\n",
       "    </tr>\n",
       "    <tr>\n",
       "      <th>3</th>\n",
       "      <td>0</td>\n",
       "      <td>1</td>\n",
       "      <td>1</td>\n",
       "      <td>1</td>\n",
       "      <td>1</td>\n",
       "      <td>12</td>\n",
       "      <td>1</td>\n",
       "      <td>33</td>\n",
       "      <td>62.669863</td>\n",
       "      <td>12.0</td>\n",
       "      <td>2</td>\n",
       "      <td>3.205633</td>\n",
       "      <td>3.357215</td>\n",
       "      <td>0</td>\n",
       "    </tr>\n",
       "    <tr>\n",
       "      <th>4</th>\n",
       "      <td>1</td>\n",
       "      <td>1</td>\n",
       "      <td>1</td>\n",
       "      <td>1</td>\n",
       "      <td>1</td>\n",
       "      <td>1</td>\n",
       "      <td>0</td>\n",
       "      <td>26</td>\n",
       "      <td>198.362265</td>\n",
       "      <td>1.0</td>\n",
       "      <td>3</td>\n",
       "      <td>1.113884</td>\n",
       "      <td>1.120078</td>\n",
       "      <td>0</td>\n",
       "    </tr>\n",
       "    <tr>\n",
       "      <th>5</th>\n",
       "      <td>1</td>\n",
       "      <td>1</td>\n",
       "      <td>0</td>\n",
       "      <td>0</td>\n",
       "      <td>1</td>\n",
       "      <td>1</td>\n",
       "      <td>1</td>\n",
       "      <td>34</td>\n",
       "      <td>450.743960</td>\n",
       "      <td>1.0</td>\n",
       "      <td>3</td>\n",
       "      <td>2.623477</td>\n",
       "      <td>2.637007</td>\n",
       "      <td>0</td>\n",
       "    </tr>\n",
       "    <tr>\n",
       "      <th>6</th>\n",
       "      <td>1</td>\n",
       "      <td>1</td>\n",
       "      <td>1</td>\n",
       "      <td>1</td>\n",
       "      <td>0</td>\n",
       "      <td>6</td>\n",
       "      <td>1</td>\n",
       "      <td>32</td>\n",
       "      <td>94.266389</td>\n",
       "      <td>6.0</td>\n",
       "      <td>2</td>\n",
       "      <td>1.138941</td>\n",
       "      <td>1.277242</td>\n",
       "      <td>0</td>\n",
       "    </tr>\n",
       "    <tr>\n",
       "      <th>7</th>\n",
       "      <td>0</td>\n",
       "      <td>1</td>\n",
       "      <td>0</td>\n",
       "      <td>0</td>\n",
       "      <td>1</td>\n",
       "      <td>1</td>\n",
       "      <td>0</td>\n",
       "      <td>30</td>\n",
       "      <td>217.786641</td>\n",
       "      <td>1.0</td>\n",
       "      <td>0</td>\n",
       "      <td>1.213502</td>\n",
       "      <td>1.049387</td>\n",
       "      <td>1</td>\n",
       "    </tr>\n",
       "    <tr>\n",
       "      <th>8</th>\n",
       "      <td>1</td>\n",
       "      <td>1</td>\n",
       "      <td>1</td>\n",
       "      <td>1</td>\n",
       "      <td>1</td>\n",
       "      <td>1</td>\n",
       "      <td>1</td>\n",
       "      <td>23</td>\n",
       "      <td>45.409909</td>\n",
       "      <td>1.0</td>\n",
       "      <td>1</td>\n",
       "      <td>1.106239</td>\n",
       "      <td>1.059333</td>\n",
       "      <td>0</td>\n",
       "    </tr>\n",
       "    <tr>\n",
       "      <th>9</th>\n",
       "      <td>0</td>\n",
       "      <td>1</td>\n",
       "      <td>0</td>\n",
       "      <td>0</td>\n",
       "      <td>1</td>\n",
       "      <td>1</td>\n",
       "      <td>0</td>\n",
       "      <td>31</td>\n",
       "      <td>65.310836</td>\n",
       "      <td>1.0</td>\n",
       "      <td>11</td>\n",
       "      <td>1.810852</td>\n",
       "      <td>1.951368</td>\n",
       "      <td>0</td>\n",
       "    </tr>\n",
       "  </tbody>\n",
       "</table>\n",
       "</div>"
      ],
      "text/plain": [
       "   Gender  Near_Location  Partner  Promo_friends  Phone  Contract_period  \\\n",
       "0       1              1        1              1      0                6   \n",
       "1       0              1        0              0      1               12   \n",
       "2       0              1        1              0      1                1   \n",
       "3       0              1        1              1      1               12   \n",
       "4       1              1        1              1      1                1   \n",
       "5       1              1        0              0      1                1   \n",
       "6       1              1        1              1      0                6   \n",
       "7       0              1        0              0      1                1   \n",
       "8       1              1        1              1      1                1   \n",
       "9       0              1        0              0      1                1   \n",
       "\n",
       "   Group_visits  Age  Avg_additional_charges_total  Month_to_end_contract  \\\n",
       "0             1   29                     14.227470                    5.0   \n",
       "1             1   31                    113.202938                   12.0   \n",
       "2             0   28                    129.448479                    1.0   \n",
       "3             1   33                     62.669863                   12.0   \n",
       "4             0   26                    198.362265                    1.0   \n",
       "5             1   34                    450.743960                    1.0   \n",
       "6             1   32                     94.266389                    6.0   \n",
       "7             0   30                    217.786641                    1.0   \n",
       "8             1   23                     45.409909                    1.0   \n",
       "9             0   31                     65.310836                    1.0   \n",
       "\n",
       "   Lifetime  Avg_class_frequency_total  Avg_class_frequency_current_month  \\\n",
       "0         3                   0.020398                           0.000000   \n",
       "1         7                   1.922936                           1.910244   \n",
       "2         2                   1.859098                           1.736502   \n",
       "3         2                   3.205633                           3.357215   \n",
       "4         3                   1.113884                           1.120078   \n",
       "5         3                   2.623477                           2.637007   \n",
       "6         2                   1.138941                           1.277242   \n",
       "7         0                   1.213502                           1.049387   \n",
       "8         1                   1.106239                           1.059333   \n",
       "9        11                   1.810852                           1.951368   \n",
       "\n",
       "   Churn  \n",
       "0      0  \n",
       "1      0  \n",
       "2      0  \n",
       "3      0  \n",
       "4      0  \n",
       "5      0  \n",
       "6      0  \n",
       "7      1  \n",
       "8      0  \n",
       "9      0  "
      ]
     },
     "execution_count": 10,
     "metadata": {},
     "output_type": "execute_result"
    }
   ],
   "source": [
    "gym_df.head(10)"
   ]
  },
  {
   "cell_type": "markdown",
   "id": "0e6fb905",
   "metadata": {},
   "source": [
    "Целевым признаком выберем колонку с информацией покинул ли человек фитнес клуб или нет - Churn. Уберём из таблицы с признаками столбцы, сильно коррелирующие друг с другом, а также значения, слишком слабо коррелирующие с целевым признаком:"
   ]
  },
  {
   "cell_type": "code",
   "execution_count": 11,
   "id": "9fe20432",
   "metadata": {},
   "outputs": [
    {
     "data": {
      "text/plain": [
       "<AxesSubplot:>"
      ]
     },
     "execution_count": 11,
     "metadata": {},
     "output_type": "execute_result"
    },
    {
     "data": {
      "image/png": "[encoded data removed]",
      "text/plain": [
       "<Figure size 1080x576 with 2 Axes>"
      ]
     },
     "metadata": {
      "needs_background": "light"
     },
     "output_type": "display_data"
    }
   ],
   "source": [
    "plt.figure(figsize = (15,8))\n",
    "sns.heatmap(gym_df.corr(), annot = True, fmt='.1g', square=True)"
   ]
  },
  {
   "cell_type": "code",
   "execution_count": 12,
   "id": "55b8da65",
   "metadata": {},
   "outputs": [],
   "source": [
    "sc = StandardScaler()"
   ]
  },
  {
   "cell_type": "code",
   "execution_count": 13,
   "id": "ea8697e8",
   "metadata": {},
   "outputs": [],
   "source": [
    "y = gym_df['Churn'] # Вектор целевой переменной\n",
    "x = sc.fit_transform(gym_df.drop(['Churn', 'Month_to_end_contract', 'Avg_class_frequency_total', 'Gender', 'Phone'], axis=1)) # Матрица объект-признак"
   ]
  },
  {
   "cell_type": "markdown",
   "id": "45b8ea70",
   "metadata": {},
   "source": [
    "Разобъём набор данных на тренировочной и тестовый датасеты с помощью train_test_split:"
   ]
  },
  {
   "cell_type": "code",
   "execution_count": 14,
   "id": "5bd0d20a",
   "metadata": {},
   "outputs": [],
   "source": [
    "x_train, x_test, y_train, y_test = train_test_split(x, y, test_size = 0.3, random_state = 1)"
   ]
  },
  {
   "cell_type": "markdown",
   "id": "3adb716c",
   "metadata": {},
   "source": [
    "### Разработаем предсказательную модель качественного отклика методом *k-ближайших соседей*:"
   ]
  },
  {
   "cell_type": "code",
   "execution_count": 15,
   "id": "5b473492",
   "metadata": {},
   "outputs": [],
   "source": [
    "knn = KNeighborsClassifier(metric='euclidean') # Инициализируем модель\n",
    "knn.fit(x_train, y_train)\n",
    "train_predictions = knn.predict(x_test)"
   ]
  },
  {
   "cell_type": "markdown",
   "id": "4a2b0fb0",
   "metadata": {},
   "source": [
    "Количество соседей в данной метрике по стандарту выбирается равным 5. Для данного датасета оптимальное значение соседей в метрике равно 11, что вычислено далее по тексту. Была выбрана евклидова метрика из-за её простоты и популярности. Значение параметра \"weights\" по умолчанию устанавливается как uniforn, чтобы точки расположенные на разном расстоянии от исследуемой имели одинаковый вес."
   ]
  },
  {
   "cell_type": "markdown",
   "id": "9749ff03",
   "metadata": {},
   "source": [
    "Подсчитаем метрики \"Accuracy\", \"Precision\", \"Recall\", \"Balanced accuracy\", \"F1 score\":"
   ]
  },
  {
   "cell_type": "code",
   "execution_count": 16,
   "id": "6bfd4356",
   "metadata": {},
   "outputs": [
    {
     "name": "stdout",
     "output_type": "stream",
     "text": [
      "accuracy: 0.885\n",
      "precision: 0.7852760736196319\n",
      "recall: 0.7901234567901234\n",
      "balanced accuracy: 0.8551073904955183\n",
      "f1: 0.7876923076923078\n"
     ]
    }
   ],
   "source": [
    "acc = accuracy_score(y_test, train_predictions)\n",
    "pre = precision_score(y_test, train_predictions)\n",
    "rec = recall_score(y_test, train_predictions)\n",
    "bal_acc = balanced_accuracy_score(y_test, train_predictions)\n",
    "f1 = f1_score(y_test, train_predictions)\n",
    "print('accuracy: ' + str(acc)) # Доля правильных ответов\n",
    "print('precision: ' + str(pre)) # Точность\n",
    "print('recall: ' + str(rec)) # Полнота\n",
    "print('balanced accuracy: ' + str(bal_acc)) # Баланс между метриками\n",
    "print('f1: ' + str(f1))"
   ]
  },
  {
   "cell_type": "markdown",
   "id": "2f8e5d9f",
   "metadata": {},
   "source": [
    "Высчитаем матрицу ошибок:"
   ]
  },
  {
   "cell_type": "code",
   "execution_count": 17,
   "id": "df837e94",
   "metadata": {},
   "outputs": [
    {
     "data": {
      "image/png": "[encoded data removed]",
      "text/plain": [
       "<Figure size 432x288 with 2 Axes>"
      ]
     },
     "metadata": {
      "needs_background": "light"
     },
     "output_type": "display_data"
    },
    {
     "name": "stdout",
     "output_type": "stream",
     "text": [
      "True Positive: 256\n",
      "False Positive: 70\n",
      "True Negative: 806\n",
      "False Negative: 68\n"
     ]
    }
   ],
   "source": [
    "cm = confusion_matrix(y_test,train_predictions)\n",
    "disp = ConfusionMatrixDisplay(confusion_matrix=cm, display_labels=knn.classes_)\n",
    "disp.plot()\n",
    "plt.show()\n",
    "tn, fp, fn, tp = cm.ravel() # \"выпрямляем\" матрицу, чтобы вытащить нужные значения\n",
    "print('True Positive: ' + str(tp))\n",
    "print('False Positive: ' + str(fp))\n",
    "print('True Negative: ' + str(tn))\n",
    "print('False Negative: ' + str(fn))"
   ]
  },
  {
   "cell_type": "markdown",
   "id": "b49976a5",
   "metadata": {},
   "source": [
    "Высчитаем ROC AUC:"
   ]
  },
  {
   "cell_type": "code",
   "execution_count": 18,
   "id": "6fa0fac8",
   "metadata": {},
   "outputs": [
    {
     "name": "stdout",
     "output_type": "stream",
     "text": [
      "Метод k-ближайших соседей: ROC AUC=0.9281561812954506\n"
     ]
    }
   ],
   "source": [
    "knn_probs = knn.predict_proba(x_test) # получаем предказания\n",
    "knn_probs = knn_probs[:, 1] # сохраняем вероятности только для положительного исхода\n",
    "knn_auc = roc_auc_score(y_test, knn_probs) # рассчитываем ROC AUC\n",
    "print('Метод k-ближайших соседей: ROC AUC=' + str(knn_auc))\n",
    "fpr_knn, tpr_knn, treshold = roc_curve(y_test, knn_probs) # рассчитываем roc-кривую\n",
    "knn_roc_auc = auc(fpr_knn, tpr_knn)"
   ]
  },
  {
   "cell_type": "markdown",
   "id": "e6351d89",
   "metadata": {},
   "source": [
    "### Разработаем предсказательную модель качественного отклика методом *логистической регрессии*:"
   ]
  },
  {
   "cell_type": "code",
   "execution_count": 19,
   "id": "9fe42f23",
   "metadata": {},
   "outputs": [],
   "source": [
    "lr = LogisticRegression(max_iter=1000) # Инициализируем модель\n",
    "lr.fit(x_train, y_train)\n",
    "train_predictions = lr.predict(x_test)"
   ]
  },
  {
   "cell_type": "markdown",
   "id": "b4d4a9b4",
   "metadata": {},
   "source": [
    "Максимальное количество итераций, необходимых для сходимости, по умолчанию равное 100 было выбрано равным 1000, так как в ином случае алгоритм не получается сделать сходящимся за заданное количество итераций."
   ]
  },
  {
   "cell_type": "markdown",
   "id": "b1ca0d56",
   "metadata": {},
   "source": [
    "Подсчитаем метрики \"Accuracy\", \"Precision\", \"Recall\", \"Balanced accuracy\", \"F1 score\":"
   ]
  },
  {
   "cell_type": "code",
   "execution_count": 20,
   "id": "879c1f04",
   "metadata": {},
   "outputs": [
    {
     "name": "stdout",
     "output_type": "stream",
     "text": [
      "accuracy: 0.9191666666666667\n",
      "precision: 0.8492307692307692\n",
      "recall: 0.8518518518518519\n",
      "balanced accuracy: 0.8979578893962455\n",
      "f1: 0.8505392912172572\n"
     ]
    }
   ],
   "source": [
    "acc = accuracy_score(y_test, train_predictions)\n",
    "pre = precision_score(y_test, train_predictions)\n",
    "rec = recall_score(y_test, train_predictions)\n",
    "bal_acc = balanced_accuracy_score(y_test, train_predictions)\n",
    "f1 = f1_score(y_test, train_predictions)\n",
    "print('accuracy: ' + str(acc))\n",
    "print('precision: ' + str(pre))\n",
    "print('recall: ' + str(rec))\n",
    "print('balanced accuracy: ' + str(bal_acc))\n",
    "print('f1: ' + str(f1))"
   ]
  },
  {
   "cell_type": "markdown",
   "id": "bfbc5675",
   "metadata": {},
   "source": [
    "Высчитаем матрицу ошибок:"
   ]
  },
  {
   "cell_type": "code",
   "execution_count": 21,
   "id": "24e6e4f7",
   "metadata": {},
   "outputs": [
    {
     "data": {
      "image/png": "[encoded data removed]",
      "text/plain": [
       "<Figure size 432x288 with 2 Axes>"
      ]
     },
     "metadata": {
      "needs_background": "light"
     },
     "output_type": "display_data"
    },
    {
     "name": "stdout",
     "output_type": "stream",
     "text": [
      "True Positive: 276\n",
      "False Positive: 49\n",
      "True Negative: 827\n",
      "False Negative: 48\n"
     ]
    }
   ],
   "source": [
    "cm = confusion_matrix(y_test, train_predictions)\n",
    "disp = ConfusionMatrixDisplay(confusion_matrix=cm, display_labels=lr.classes_)\n",
    "disp.plot()\n",
    "plt.show()\n",
    "tn, fp, fn, tp = cm.ravel() # \"выпрямляем\" матрицу, чтобы вытащить нужные значения\n",
    "print('True Positive: ' + str(tp))\n",
    "print('False Positive: ' + str(fp))\n",
    "print('True Negative: ' + str(tn))\n",
    "print('False Negative: ' + str(fn))"
   ]
  },
  {
   "cell_type": "markdown",
   "id": "7c3b07a8",
   "metadata": {},
   "source": [
    "Высчитаем ROC AUC:"
   ]
  },
  {
   "cell_type": "code",
   "execution_count": 22,
   "id": "6e82fb13",
   "metadata": {},
   "outputs": [
    {
     "name": "stdout",
     "output_type": "stream",
     "text": [
      "Логистическая регрессия: ROC AUC=0.9686213991769548\n"
     ]
    }
   ],
   "source": [
    "lr_probs = lr.predict_proba(x_test)\n",
    "lr_probs = lr_probs[:, 1]\n",
    "lr_auc = roc_auc_score(y_test, lr_probs)\n",
    "print('Логистическая регрессия: ROC AUC=' +str(lr_auc))\n",
    "fpr_lr, tpr_lr, treshold = roc_curve(y_test, lr_probs)\n",
    "lr_roc_auc = auc(fpr_lr, tpr_lr)"
   ]
  },
  {
   "cell_type": "markdown",
   "id": "51171273",
   "metadata": {},
   "source": [
    "### Разработаем предсказательную модель качественного отклика методом *случайного леса*:"
   ]
  },
  {
   "cell_type": "code",
   "execution_count": 23,
   "id": "37f995a9",
   "metadata": {},
   "outputs": [],
   "source": [
    "rfc = RandomForestClassifier() # Инициализируем модель\n",
    "rfc.fit(x_train, y_train)\n",
    "train_predictions = rfc.predict(x_test)"
   ]
  },
  {
   "cell_type": "markdown",
   "id": "a05c8d00",
   "metadata": {},
   "source": [
    "Знеачение \"max_depth\" по умолчанию равно \"None\", что означает что узлы будут расширяться до тех пор, пока все листья не станут чистыми или пока все листья не будут содержать выборок меньше, чем \"min_samples_split\", которое по умолчанию равно двойке. Значение \"n_estimators\", отображающее количество деревьев в лесу выставлено по умолчанию равным 100."
   ]
  },
  {
   "cell_type": "markdown",
   "id": "39c3ddbd",
   "metadata": {},
   "source": [
    "Подсчитаем метрики \"Accuracy\", \"Precision\", \"Recall\", \"Balanced accuracy\", \"F1 score\":"
   ]
  },
  {
   "cell_type": "code",
   "execution_count": 24,
   "id": "b6cd374f",
   "metadata": {},
   "outputs": [
    {
     "name": "stdout",
     "output_type": "stream",
     "text": [
      "accuracy: 0.9116666666666666\n",
      "precision: 0.8562091503267973\n",
      "recall: 0.808641975308642\n",
      "balanced accuracy: 0.8792068324031794\n",
      "f1: 0.8317460317460317\n"
     ]
    }
   ],
   "source": [
    "acc = accuracy_score(y_test, train_predictions)\n",
    "pre = precision_score(y_test, train_predictions)\n",
    "rec = recall_score(y_test, train_predictions)\n",
    "bal_acc = balanced_accuracy_score(y_test, train_predictions)\n",
    "f1 = f1_score(y_test, train_predictions)\n",
    "print('accuracy: ' + str(acc))\n",
    "print('precision: ' + str(pre))\n",
    "print('recall: ' + str(rec))\n",
    "print('balanced accuracy: ' + str(bal_acc))\n",
    "print('f1: ' + str(f1))"
   ]
  },
  {
   "cell_type": "markdown",
   "id": "c3e5f73d",
   "metadata": {},
   "source": [
    "Высчитаем матрицу ошибок:"
   ]
  },
  {
   "cell_type": "code",
   "execution_count": 25,
   "id": "f07b3f94",
   "metadata": {},
   "outputs": [
    {
     "data": {
      "image/png": "[encoded data removed]",
      "text/plain": [
       "<Figure size 432x288 with 2 Axes>"
      ]
     },
     "metadata": {
      "needs_background": "light"
     },
     "output_type": "display_data"
    },
    {
     "name": "stdout",
     "output_type": "stream",
     "text": [
      "True Positive: 262\n",
      "False Positive: 44\n",
      "True Negative: 832\n",
      "False Negative: 62\n"
     ]
    }
   ],
   "source": [
    "cm = confusion_matrix(y_test, train_predictions)\n",
    "disp = ConfusionMatrixDisplay(confusion_matrix=cm, display_labels=rfc.classes_)\n",
    "disp.plot()\n",
    "plt.show()\n",
    "tn, fp, fn, tp = cm.ravel() # \"выпрямляем\" матрицу, чтобы вытащить нужные значения\n",
    "print('True Positive: ' + str(tp))\n",
    "print('False Positive: ' + str(fp))\n",
    "print('True Negative: ' + str(tn))\n",
    "print('False Negative: ' + str(fn))"
   ]
  },
  {
   "cell_type": "markdown",
   "id": "19d94cc2",
   "metadata": {},
   "source": [
    "Высчитаем ROC AUC:"
   ]
  },
  {
   "cell_type": "code",
   "execution_count": 26,
   "id": "87457e28",
   "metadata": {},
   "outputs": [
    {
     "name": "stdout",
     "output_type": "stream",
     "text": [
      "Метод случайного леса: ROC AUC=0.9575141637070861\n"
     ]
    }
   ],
   "source": [
    "rfc_probs = rfc.predict_proba(x_test)\n",
    "rfc_probs = rfc_probs[:, 1]\n",
    "rfc_auc = roc_auc_score(y_test, rfc_probs)\n",
    "print('Метод случайного леса: ROC AUC=' + str(rfc_auc))\n",
    "fpr_rfc, tpr_rfc, treshold = roc_curve(y_test, rfc_probs)\n",
    "rfc_roc_auc = auc(fpr_rfc, tpr_rfc)"
   ]
  },
  {
   "cell_type": "markdown",
   "id": "6a8f4070",
   "metadata": {},
   "source": [
    "Построим графики ROC-кривых:"
   ]
  },
  {
   "cell_type": "code",
   "execution_count": 27,
   "id": "896bcc16",
   "metadata": {},
   "outputs": [
    {
     "data": {
      "image/png": "[encoded data removed]",
      "text/plain": [
       "<Figure size 432x288 with 1 Axes>"
      ]
     },
     "metadata": {
      "needs_background": "light"
     },
     "output_type": "display_data"
    }
   ],
   "source": [
    "plt.plot(fpr_knn, tpr_knn, color='red',\n",
    "         label='ROC кривая метода k-ближайших соседей' % knn_roc_auc)\n",
    "plt.plot(fpr_lr, tpr_lr, color='green',\n",
    "         label='ROC кривая логистической регрессии' % lr_roc_auc)\n",
    "plt.plot(fpr_rfc, tpr_rfc, color='blue',\n",
    "         label='ROC кривая метода случайного леса' % rfc_roc_auc)\n",
    "plt.plot([0, 1], [0, 1], color='black', linestyle='--', label='Случайный прогноз')\n",
    "plt.xlim([0.0, 1.0])\n",
    "plt.ylim([0.0, 1.05])\n",
    "plt.xlabel('False Positive Rate')\n",
    "plt.ylabel('True Positive Rate')\n",
    "plt.title('ROC-кривые')\n",
    "plt.legend(loc=\"lower right\")\n",
    "plt.show()"
   ]
  },
  {
   "cell_type": "markdown",
   "id": "e5010c96",
   "metadata": {},
   "source": [
    "**Вывод:** в ходе выполнения работы изучены алгоритмы и методы классификации данных. Были разработаны предсказательные модели, вычисляющие по набору признаков, уйдёт ли клиент из фитнес-клуба на основе методов: k- ближайших соседей, логистической регрессии, случайного леса. выли высчитаны метрики, позволяющие оценить качество работы классификаторов. Лучше всего высчитывает предсказания классификатор, основанный на методе логистической регрессии, а хуже всех себя показал метод k-ближайших соседей. Тем не менее, все три метода классификации данных показали неплохие результаты. Для каждого метода были, также, были построены матрицы неточностей и график ROC-кривых, который подтвердил полученные оценки качества работы методов классификации."
   ]
  },
  {
   "cell_type": "markdown",
   "id": "7e3332ba",
   "metadata": {},
   "source": [
    "### Дополнительное задание"
   ]
  },
  {
   "cell_type": "markdown",
   "id": "cc459535",
   "metadata": {},
   "source": [
    "Вычислим долю правильных ответов при использовании метода k-ближайших соседей для k от 2 до 20:"
   ]
  },
  {
   "cell_type": "code",
   "execution_count": 28,
   "id": "ed2f309e",
   "metadata": {},
   "outputs": [
    {
     "data": {
      "text/html": [
       "<div>\n",
       "<style scoped>\n",
       "    .dataframe tbody tr th:only-of-type {\n",
       "        vertical-align: middle;\n",
       "    }\n",
       "\n",
       "    .dataframe tbody tr th {\n",
       "        vertical-align: top;\n",
       "    }\n",
       "\n",
       "    .dataframe thead th {\n",
       "        text-align: right;\n",
       "    }\n",
       "</style>\n",
       "<table border=\"1\" class=\"dataframe\">\n",
       "  <thead>\n",
       "    <tr style=\"text-align: right;\">\n",
       "      <th></th>\n",
       "      <th>count</th>\n",
       "      <th>res</th>\n",
       "    </tr>\n",
       "  </thead>\n",
       "  <tbody>\n",
       "    <tr>\n",
       "      <th>0</th>\n",
       "      <td>2</td>\n",
       "      <td>0.860833</td>\n",
       "    </tr>\n",
       "    <tr>\n",
       "      <th>1</th>\n",
       "      <td>3</td>\n",
       "      <td>0.878333</td>\n",
       "    </tr>\n",
       "    <tr>\n",
       "      <th>2</th>\n",
       "      <td>4</td>\n",
       "      <td>0.875000</td>\n",
       "    </tr>\n",
       "    <tr>\n",
       "      <th>3</th>\n",
       "      <td>5</td>\n",
       "      <td>0.885000</td>\n",
       "    </tr>\n",
       "    <tr>\n",
       "      <th>4</th>\n",
       "      <td>6</td>\n",
       "      <td>0.887500</td>\n",
       "    </tr>\n",
       "    <tr>\n",
       "      <th>5</th>\n",
       "      <td>7</td>\n",
       "      <td>0.890833</td>\n",
       "    </tr>\n",
       "    <tr>\n",
       "      <th>6</th>\n",
       "      <td>8</td>\n",
       "      <td>0.896667</td>\n",
       "    </tr>\n",
       "    <tr>\n",
       "      <th>7</th>\n",
       "      <td>9</td>\n",
       "      <td>0.897500</td>\n",
       "    </tr>\n",
       "    <tr>\n",
       "      <th>8</th>\n",
       "      <td>10</td>\n",
       "      <td>0.894167</td>\n",
       "    </tr>\n",
       "    <tr>\n",
       "      <th>9</th>\n",
       "      <td>11</td>\n",
       "      <td>0.890833</td>\n",
       "    </tr>\n",
       "    <tr>\n",
       "      <th>10</th>\n",
       "      <td>12</td>\n",
       "      <td>0.893333</td>\n",
       "    </tr>\n",
       "    <tr>\n",
       "      <th>11</th>\n",
       "      <td>13</td>\n",
       "      <td>0.898333</td>\n",
       "    </tr>\n",
       "    <tr>\n",
       "      <th>12</th>\n",
       "      <td>14</td>\n",
       "      <td>0.895833</td>\n",
       "    </tr>\n",
       "    <tr>\n",
       "      <th>13</th>\n",
       "      <td>15</td>\n",
       "      <td>0.896667</td>\n",
       "    </tr>\n",
       "    <tr>\n",
       "      <th>14</th>\n",
       "      <td>16</td>\n",
       "      <td>0.894167</td>\n",
       "    </tr>\n",
       "    <tr>\n",
       "      <th>15</th>\n",
       "      <td>17</td>\n",
       "      <td>0.896667</td>\n",
       "    </tr>\n",
       "    <tr>\n",
       "      <th>16</th>\n",
       "      <td>18</td>\n",
       "      <td>0.893333</td>\n",
       "    </tr>\n",
       "    <tr>\n",
       "      <th>17</th>\n",
       "      <td>19</td>\n",
       "      <td>0.896667</td>\n",
       "    </tr>\n",
       "    <tr>\n",
       "      <th>18</th>\n",
       "      <td>20</td>\n",
       "      <td>0.894167</td>\n",
       "    </tr>\n",
       "  </tbody>\n",
       "</table>\n",
       "</div>"
      ],
      "text/plain": [
       "    count       res\n",
       "0       2  0.860833\n",
       "1       3  0.878333\n",
       "2       4  0.875000\n",
       "3       5  0.885000\n",
       "4       6  0.887500\n",
       "5       7  0.890833\n",
       "6       8  0.896667\n",
       "7       9  0.897500\n",
       "8      10  0.894167\n",
       "9      11  0.890833\n",
       "10     12  0.893333\n",
       "11     13  0.898333\n",
       "12     14  0.895833\n",
       "13     15  0.896667\n",
       "14     16  0.894167\n",
       "15     17  0.896667\n",
       "16     18  0.893333\n",
       "17     19  0.896667\n",
       "18     20  0.894167"
      ]
     },
     "execution_count": 28,
     "metadata": {},
     "output_type": "execute_result"
    }
   ],
   "source": [
    "count = []\n",
    "res = []\n",
    "for i in range(2,21):\n",
    "    count.append(i)\n",
    "    knn = KNeighborsClassifier(n_neighbors=i, metric='euclidean', weights='uniform') # Инициализируем модель\n",
    "    knn.fit(x_train, y_train)\n",
    "    train_predictions = knn.predict(x_test)\n",
    "    res.append(accuracy_score(y_test, train_predictions))\n",
    "d = {'count': count, 'res': res}\n",
    "df = pd.DataFrame(data=d)\n",
    "df"
   ]
  }
 ],
 "metadata": {
  "kernelspec": {
   "display_name": "Python 3 (ipykernel)",
   "language": "python",
   "name": "python3"
  },
  "language_info": {
   "codemirror_mode": {
    "name": "ipython",
    "version": 3
   },
   "file_extension": ".py",
   "mimetype": "text/x-python",
   "name": "python",
   "nbconvert_exporter": "python",
   "pygments_lexer": "ipython3",
   "version": "3.9.12"
  }
 },
 "nbformat": 4,
 "nbformat_minor": 5
}
