{
 "cells": [
  {
   "cell_type": "markdown",
   "id": "7ba98a45",
   "metadata": {},
   "source": [
    "# Кластеризация данных"
   ]
  },
  {
   "cell_type": "markdown",
   "id": "e2339274",
   "metadata": {},
   "source": [
    "Импорты библиотек:"
   ]
  },
  {
   "cell_type": "code",
   "execution_count": 1,
   "id": "4f6157ae",
   "metadata": {},
   "outputs": [],
   "source": [
    "import pandas as pd\n",
    "import numpy as np\n",
    "import seaborn as sns\n",
    "import matplotlib.pyplot as plt\n",
    "from sklearn.preprocessing import StandardScaler\n",
    "from sklearn.cluster import KMeans\n",
    "from scipy.cluster.hierarchy import dendrogram, linkage, fcluster\n",
    "from sklearn.metrics import silhouette_score, euclidean_distances"
   ]
  },
  {
   "cell_type": "markdown",
   "id": "71156b4d",
   "metadata": {},
   "source": [
    "### Проведём предварительную обработку данных:"
   ]
  },
  {
   "cell_type": "markdown",
   "id": "28b7acf1",
   "metadata": {},
   "source": [
    "Импортируем датафрейм:"
   ]
  },
  {
   "cell_type": "code",
   "execution_count": 2,
   "id": "3f2396c4",
   "metadata": {},
   "outputs": [
    {
     "data": {
      "text/html": [
       "<div>\n",
       "<style scoped>\n",
       "    .dataframe tbody tr th:only-of-type {\n",
       "        vertical-align: middle;\n",
       "    }\n",
       "\n",
       "    .dataframe tbody tr th {\n",
       "        vertical-align: top;\n",
       "    }\n",
       "\n",
       "    .dataframe thead th {\n",
       "        text-align: right;\n",
       "    }\n",
       "</style>\n",
       "<table border=\"1\" class=\"dataframe\">\n",
       "  <thead>\n",
       "    <tr style=\"text-align: right;\">\n",
       "      <th></th>\n",
       "      <th>gender</th>\n",
       "      <th>Near_Location</th>\n",
       "      <th>Partner</th>\n",
       "      <th>Promo_friends</th>\n",
       "      <th>Phone</th>\n",
       "      <th>Contract_period</th>\n",
       "      <th>Group_visits</th>\n",
       "      <th>Age</th>\n",
       "      <th>Avg_additional_charges_total</th>\n",
       "      <th>Month_to_end_contract</th>\n",
       "      <th>Lifetime</th>\n",
       "      <th>Avg_class_frequency_total</th>\n",
       "      <th>Avg_class_frequency_current_month</th>\n",
       "      <th>Churn</th>\n",
       "    </tr>\n",
       "  </thead>\n",
       "  <tbody>\n",
       "    <tr>\n",
       "      <th>0</th>\n",
       "      <td>1</td>\n",
       "      <td>1</td>\n",
       "      <td>1</td>\n",
       "      <td>1</td>\n",
       "      <td>0</td>\n",
       "      <td>6</td>\n",
       "      <td>1</td>\n",
       "      <td>29</td>\n",
       "      <td>14.227470</td>\n",
       "      <td>5.0</td>\n",
       "      <td>3</td>\n",
       "      <td>0.020398</td>\n",
       "      <td>0.000000</td>\n",
       "      <td>0</td>\n",
       "    </tr>\n",
       "    <tr>\n",
       "      <th>1</th>\n",
       "      <td>0</td>\n",
       "      <td>1</td>\n",
       "      <td>0</td>\n",
       "      <td>0</td>\n",
       "      <td>1</td>\n",
       "      <td>12</td>\n",
       "      <td>1</td>\n",
       "      <td>31</td>\n",
       "      <td>113.202938</td>\n",
       "      <td>12.0</td>\n",
       "      <td>7</td>\n",
       "      <td>1.922936</td>\n",
       "      <td>1.910244</td>\n",
       "      <td>0</td>\n",
       "    </tr>\n",
       "    <tr>\n",
       "      <th>2</th>\n",
       "      <td>0</td>\n",
       "      <td>1</td>\n",
       "      <td>1</td>\n",
       "      <td>0</td>\n",
       "      <td>1</td>\n",
       "      <td>1</td>\n",
       "      <td>0</td>\n",
       "      <td>28</td>\n",
       "      <td>129.448479</td>\n",
       "      <td>1.0</td>\n",
       "      <td>2</td>\n",
       "      <td>1.859098</td>\n",
       "      <td>1.736502</td>\n",
       "      <td>0</td>\n",
       "    </tr>\n",
       "    <tr>\n",
       "      <th>3</th>\n",
       "      <td>0</td>\n",
       "      <td>1</td>\n",
       "      <td>1</td>\n",
       "      <td>1</td>\n",
       "      <td>1</td>\n",
       "      <td>12</td>\n",
       "      <td>1</td>\n",
       "      <td>33</td>\n",
       "      <td>62.669863</td>\n",
       "      <td>12.0</td>\n",
       "      <td>2</td>\n",
       "      <td>3.205633</td>\n",
       "      <td>3.357215</td>\n",
       "      <td>0</td>\n",
       "    </tr>\n",
       "    <tr>\n",
       "      <th>4</th>\n",
       "      <td>1</td>\n",
       "      <td>1</td>\n",
       "      <td>1</td>\n",
       "      <td>1</td>\n",
       "      <td>1</td>\n",
       "      <td>1</td>\n",
       "      <td>0</td>\n",
       "      <td>26</td>\n",
       "      <td>198.362265</td>\n",
       "      <td>1.0</td>\n",
       "      <td>3</td>\n",
       "      <td>1.113884</td>\n",
       "      <td>1.120078</td>\n",
       "      <td>0</td>\n",
       "    </tr>\n",
       "  </tbody>\n",
       "</table>\n",
       "</div>"
      ],
      "text/plain": [
       "   gender  Near_Location  Partner  Promo_friends  Phone  Contract_period  \\\n",
       "0       1              1        1              1      0                6   \n",
       "1       0              1        0              0      1               12   \n",
       "2       0              1        1              0      1                1   \n",
       "3       0              1        1              1      1               12   \n",
       "4       1              1        1              1      1                1   \n",
       "\n",
       "   Group_visits  Age  Avg_additional_charges_total  Month_to_end_contract  \\\n",
       "0             1   29                     14.227470                    5.0   \n",
       "1             1   31                    113.202938                   12.0   \n",
       "2             0   28                    129.448479                    1.0   \n",
       "3             1   33                     62.669863                   12.0   \n",
       "4             0   26                    198.362265                    1.0   \n",
       "\n",
       "   Lifetime  Avg_class_frequency_total  Avg_class_frequency_current_month  \\\n",
       "0         3                   0.020398                           0.000000   \n",
       "1         7                   1.922936                           1.910244   \n",
       "2         2                   1.859098                           1.736502   \n",
       "3         2                   3.205633                           3.357215   \n",
       "4         3                   1.113884                           1.120078   \n",
       "\n",
       "   Churn  \n",
       "0      0  \n",
       "1      0  \n",
       "2      0  \n",
       "3      0  \n",
       "4      0  "
      ]
     },
     "execution_count": 2,
     "metadata": {},
     "output_type": "execute_result"
    }
   ],
   "source": [
    "gym_df = pd.read_csv('C:/Users/dmitr/Downloads/5gym_churn.csv')\n",
    "gym_df.head(5)"
   ]
  },
  {
   "cell_type": "markdown",
   "id": "9ee2924a",
   "metadata": {},
   "source": [
    "Приведём названия столбцов к общему виду:"
   ]
  },
  {
   "cell_type": "code",
   "execution_count": 3,
   "id": "f7d3edb8",
   "metadata": {},
   "outputs": [
    {
     "data": {
      "text/plain": [
       "Index(['gender', 'Near_Location', 'Partner', 'Promo_friends', 'Phone',\n",
       "       'Contract_period', 'Group_visits', 'Age',\n",
       "       'Avg_additional_charges_total', 'Month_to_end_contract', 'Lifetime',\n",
       "       'Avg_class_frequency_total', 'Avg_class_frequency_current_month',\n",
       "       'Churn'],\n",
       "      dtype='object')"
      ]
     },
     "execution_count": 3,
     "metadata": {},
     "output_type": "execute_result"
    }
   ],
   "source": [
    "gym_df.columns"
   ]
  },
  {
   "cell_type": "code",
   "execution_count": 4,
   "id": "d8a9ea8c",
   "metadata": {},
   "outputs": [
    {
     "data": {
      "text/plain": [
       "Index(['Gender', 'Near_Location', 'Partner', 'Promo_friends', 'Phone',\n",
       "       'Contract_period', 'Group_visits', 'Age',\n",
       "       'Avg_additional_charges_total', 'Month_to_end_contract', 'Lifetime',\n",
       "       'Avg_class_frequency_total', 'Avg_class_frequency_current_month',\n",
       "       'Churn'],\n",
       "      dtype='object')"
      ]
     },
     "execution_count": 4,
     "metadata": {},
     "output_type": "execute_result"
    }
   ],
   "source": [
    "gym_df = gym_df.rename(columns={'gender': 'Gender'})\n",
    "gym_df.columns"
   ]
  },
  {
   "cell_type": "markdown",
   "id": "cf4258c1",
   "metadata": {},
   "source": [
    "Проверим датафрейм на наличие пропущеных значений:"
   ]
  },
  {
   "cell_type": "code",
   "execution_count": 5,
   "id": "41db2b8c",
   "metadata": {},
   "outputs": [
    {
     "data": {
      "text/plain": [
       "Gender                               0\n",
       "Near_Location                        0\n",
       "Partner                              0\n",
       "Promo_friends                        0\n",
       "Phone                                0\n",
       "Contract_period                      0\n",
       "Group_visits                         0\n",
       "Age                                  0\n",
       "Avg_additional_charges_total         0\n",
       "Month_to_end_contract                0\n",
       "Lifetime                             0\n",
       "Avg_class_frequency_total            0\n",
       "Avg_class_frequency_current_month    0\n",
       "Churn                                0\n",
       "dtype: int64"
      ]
     },
     "execution_count": 5,
     "metadata": {},
     "output_type": "execute_result"
    }
   ],
   "source": [
    "gym_df.isna().sum()"
   ]
  },
  {
   "cell_type": "markdown",
   "id": "68b5b4f0",
   "metadata": {},
   "source": [
    "Проверим датафрейм на наличие явных дубликатов:"
   ]
  },
  {
   "cell_type": "code",
   "execution_count": 6,
   "id": "30ee70b6",
   "metadata": {},
   "outputs": [
    {
     "name": "stdout",
     "output_type": "stream",
     "text": [
      "0\n"
     ]
    }
   ],
   "source": [
    "print(gym_df.duplicated().sum())"
   ]
  },
  {
   "cell_type": "markdown",
   "id": "fd61a134",
   "metadata": {},
   "source": [
    "Приведём столбец \"Month_to_end_contract\" к типу данных \"int64\":"
   ]
  },
  {
   "cell_type": "code",
   "execution_count": 7,
   "id": "adcd005e",
   "metadata": {},
   "outputs": [
    {
     "name": "stdout",
     "output_type": "stream",
     "text": [
      "<class 'pandas.core.frame.DataFrame'>\n",
      "RangeIndex: 4000 entries, 0 to 3999\n",
      "Data columns (total 14 columns):\n",
      " #   Column                             Non-Null Count  Dtype  \n",
      "---  ------                             --------------  -----  \n",
      " 0   Gender                             4000 non-null   int64  \n",
      " 1   Near_Location                      4000 non-null   int64  \n",
      " 2   Partner                            4000 non-null   int64  \n",
      " 3   Promo_friends                      4000 non-null   int64  \n",
      " 4   Phone                              4000 non-null   int64  \n",
      " 5   Contract_period                    4000 non-null   int64  \n",
      " 6   Group_visits                       4000 non-null   int64  \n",
      " 7   Age                                4000 non-null   int64  \n",
      " 8   Avg_additional_charges_total       4000 non-null   float64\n",
      " 9   Month_to_end_contract              4000 non-null   float64\n",
      " 10  Lifetime                           4000 non-null   int64  \n",
      " 11  Avg_class_frequency_total          4000 non-null   float64\n",
      " 12  Avg_class_frequency_current_month  4000 non-null   float64\n",
      " 13  Churn                              4000 non-null   int64  \n",
      "dtypes: float64(4), int64(10)\n",
      "memory usage: 437.6 KB\n"
     ]
    }
   ],
   "source": [
    "gym_df.info()"
   ]
  },
  {
   "cell_type": "code",
   "execution_count": 8,
   "id": "46440577",
   "metadata": {},
   "outputs": [
    {
     "data": {
      "text/plain": [
       "Gender                                 int64\n",
       "Near_Location                          int64\n",
       "Partner                                int64\n",
       "Promo_friends                          int64\n",
       "Phone                                  int64\n",
       "Contract_period                        int64\n",
       "Group_visits                           int64\n",
       "Age                                    int64\n",
       "Avg_additional_charges_total         float64\n",
       "Month_to_end_contract                  int64\n",
       "Lifetime                               int64\n",
       "Avg_class_frequency_total            float64\n",
       "Avg_class_frequency_current_month    float64\n",
       "Churn                                  int64\n",
       "dtype: object"
      ]
     },
     "execution_count": 8,
     "metadata": {},
     "output_type": "execute_result"
    }
   ],
   "source": [
    "gym_df.astype({'Month_to_end_contract': 'int64'}).dtypes"
   ]
  },
  {
   "cell_type": "markdown",
   "id": "ce87da80",
   "metadata": {},
   "source": [
    "Проверим датафрейм на наличие неявных дубликатов:"
   ]
  },
  {
   "cell_type": "code",
   "execution_count": 9,
   "id": "753a076c",
   "metadata": {},
   "outputs": [
    {
     "name": "stdout",
     "output_type": "stream",
     "text": [
      "Gender: [1 0]\n",
      "Near_Location: [1 0]\n",
      "Partner: [1 0]\n",
      "Promo_friends: [1 0]\n",
      "Phone: [0 1]\n",
      "Contract_period: [ 6 12  1]\n",
      "Group_visits: [1 0]\n",
      "Age: [29 31 28 33 26 34 32 30 23 27 35 25 36 24 21 37 22 19 20 38 39 18 41]\n",
      "Avg_additional_charges_total: [ 14.22747042 113.20293765 129.44847933 ...  78.25054157  61.91265691\n",
      " 178.86181361]\n",
      "Month_to_end_contract: [ 5. 12.  1.  6.  3. 10. 11.  9.  4.  7.  8.  2.]\n",
      "Avg_class_frequency_total: [0.02039795 1.92293606 1.85909835 ... 2.78614636 1.63010814 1.10183221]\n",
      "Avg_class_frequency_current_month: [0.         1.91024352 1.73650189 ... 2.8314395  1.59623664 1.03526976]\n",
      "Churn: [0 1]\n"
     ]
    }
   ],
   "source": [
    "print(\"Gender: \" + str(gym_df['Gender'].unique()))\n",
    "print(\"Near_Location: \" + str(gym_df['Near_Location'].unique()))\n",
    "print(\"Partner: \" + str(gym_df['Partner'].unique()))\n",
    "print(\"Promo_friends: \" + str(gym_df['Promo_friends'].unique()))\n",
    "print(\"Phone: \" + str(gym_df['Phone'].unique()))\n",
    "print(\"Contract_period: \" + str(gym_df['Contract_period'].unique()))\n",
    "print(\"Group_visits: \" + str(gym_df['Group_visits'].unique()))\n",
    "print(\"Age: \" + str(gym_df['Age'].unique()))\n",
    "print(\"Avg_additional_charges_total: \" + str(gym_df['Avg_additional_charges_total'].unique()))\n",
    "print(\"Month_to_end_contract: \" + str(gym_df['Month_to_end_contract'].unique()))\n",
    "print(\"Avg_class_frequency_total: \" + str(gym_df['Avg_class_frequency_total'].unique()))\n",
    "print(\"Avg_class_frequency_current_month: \" + str(gym_df['Avg_class_frequency_current_month'].unique()))\n",
    "print(\"Churn: \" + str(gym_df['Churn'].unique()))"
   ]
  },
  {
   "cell_type": "markdown",
   "id": "1e36db96",
   "metadata": {},
   "source": [
    "Обработка данных завершена:"
   ]
  },
  {
   "cell_type": "code",
   "execution_count": 10,
   "id": "5aa4e66e",
   "metadata": {},
   "outputs": [
    {
     "data": {
      "text/html": [
       "<div>\n",
       "<style scoped>\n",
       "    .dataframe tbody tr th:only-of-type {\n",
       "        vertical-align: middle;\n",
       "    }\n",
       "\n",
       "    .dataframe tbody tr th {\n",
       "        vertical-align: top;\n",
       "    }\n",
       "\n",
       "    .dataframe thead th {\n",
       "        text-align: right;\n",
       "    }\n",
       "</style>\n",
       "<table border=\"1\" class=\"dataframe\">\n",
       "  <thead>\n",
       "    <tr style=\"text-align: right;\">\n",
       "      <th></th>\n",
       "      <th>Gender</th>\n",
       "      <th>Near_Location</th>\n",
       "      <th>Partner</th>\n",
       "      <th>Promo_friends</th>\n",
       "      <th>Phone</th>\n",
       "      <th>Contract_period</th>\n",
       "      <th>Group_visits</th>\n",
       "      <th>Age</th>\n",
       "      <th>Avg_additional_charges_total</th>\n",
       "      <th>Month_to_end_contract</th>\n",
       "      <th>Lifetime</th>\n",
       "      <th>Avg_class_frequency_total</th>\n",
       "      <th>Avg_class_frequency_current_month</th>\n",
       "      <th>Churn</th>\n",
       "    </tr>\n",
       "  </thead>\n",
       "  <tbody>\n",
       "    <tr>\n",
       "      <th>0</th>\n",
       "      <td>1</td>\n",
       "      <td>1</td>\n",
       "      <td>1</td>\n",
       "      <td>1</td>\n",
       "      <td>0</td>\n",
       "      <td>6</td>\n",
       "      <td>1</td>\n",
       "      <td>29</td>\n",
       "      <td>14.227470</td>\n",
       "      <td>5.0</td>\n",
       "      <td>3</td>\n",
       "      <td>0.020398</td>\n",
       "      <td>0.000000</td>\n",
       "      <td>0</td>\n",
       "    </tr>\n",
       "    <tr>\n",
       "      <th>1</th>\n",
       "      <td>0</td>\n",
       "      <td>1</td>\n",
       "      <td>0</td>\n",
       "      <td>0</td>\n",
       "      <td>1</td>\n",
       "      <td>12</td>\n",
       "      <td>1</td>\n",
       "      <td>31</td>\n",
       "      <td>113.202938</td>\n",
       "      <td>12.0</td>\n",
       "      <td>7</td>\n",
       "      <td>1.922936</td>\n",
       "      <td>1.910244</td>\n",
       "      <td>0</td>\n",
       "    </tr>\n",
       "    <tr>\n",
       "      <th>2</th>\n",
       "      <td>0</td>\n",
       "      <td>1</td>\n",
       "      <td>1</td>\n",
       "      <td>0</td>\n",
       "      <td>1</td>\n",
       "      <td>1</td>\n",
       "      <td>0</td>\n",
       "      <td>28</td>\n",
       "      <td>129.448479</td>\n",
       "      <td>1.0</td>\n",
       "      <td>2</td>\n",
       "      <td>1.859098</td>\n",
       "      <td>1.736502</td>\n",
       "      <td>0</td>\n",
       "    </tr>\n",
       "    <tr>\n",
       "      <th>3</th>\n",
       "      <td>0</td>\n",
       "      <td>1</td>\n",
       "      <td>1</td>\n",
       "      <td>1</td>\n",
       "      <td>1</td>\n",
       "      <td>12</td>\n",
       "      <td>1</td>\n",
       "      <td>33</td>\n",
       "      <td>62.669863</td>\n",
       "      <td>12.0</td>\n",
       "      <td>2</td>\n",
       "      <td>3.205633</td>\n",
       "      <td>3.357215</td>\n",
       "      <td>0</td>\n",
       "    </tr>\n",
       "    <tr>\n",
       "      <th>4</th>\n",
       "      <td>1</td>\n",
       "      <td>1</td>\n",
       "      <td>1</td>\n",
       "      <td>1</td>\n",
       "      <td>1</td>\n",
       "      <td>1</td>\n",
       "      <td>0</td>\n",
       "      <td>26</td>\n",
       "      <td>198.362265</td>\n",
       "      <td>1.0</td>\n",
       "      <td>3</td>\n",
       "      <td>1.113884</td>\n",
       "      <td>1.120078</td>\n",
       "      <td>0</td>\n",
       "    </tr>\n",
       "    <tr>\n",
       "      <th>5</th>\n",
       "      <td>1</td>\n",
       "      <td>1</td>\n",
       "      <td>0</td>\n",
       "      <td>0</td>\n",
       "      <td>1</td>\n",
       "      <td>1</td>\n",
       "      <td>1</td>\n",
       "      <td>34</td>\n",
       "      <td>450.743960</td>\n",
       "      <td>1.0</td>\n",
       "      <td>3</td>\n",
       "      <td>2.623477</td>\n",
       "      <td>2.637007</td>\n",
       "      <td>0</td>\n",
       "    </tr>\n",
       "    <tr>\n",
       "      <th>6</th>\n",
       "      <td>1</td>\n",
       "      <td>1</td>\n",
       "      <td>1</td>\n",
       "      <td>1</td>\n",
       "      <td>0</td>\n",
       "      <td>6</td>\n",
       "      <td>1</td>\n",
       "      <td>32</td>\n",
       "      <td>94.266389</td>\n",
       "      <td>6.0</td>\n",
       "      <td>2</td>\n",
       "      <td>1.138941</td>\n",
       "      <td>1.277242</td>\n",
       "      <td>0</td>\n",
       "    </tr>\n",
       "    <tr>\n",
       "      <th>7</th>\n",
       "      <td>0</td>\n",
       "      <td>1</td>\n",
       "      <td>0</td>\n",
       "      <td>0</td>\n",
       "      <td>1</td>\n",
       "      <td>1</td>\n",
       "      <td>0</td>\n",
       "      <td>30</td>\n",
       "      <td>217.786641</td>\n",
       "      <td>1.0</td>\n",
       "      <td>0</td>\n",
       "      <td>1.213502</td>\n",
       "      <td>1.049387</td>\n",
       "      <td>1</td>\n",
       "    </tr>\n",
       "    <tr>\n",
       "      <th>8</th>\n",
       "      <td>1</td>\n",
       "      <td>1</td>\n",
       "      <td>1</td>\n",
       "      <td>1</td>\n",
       "      <td>1</td>\n",
       "      <td>1</td>\n",
       "      <td>1</td>\n",
       "      <td>23</td>\n",
       "      <td>45.409909</td>\n",
       "      <td>1.0</td>\n",
       "      <td>1</td>\n",
       "      <td>1.106239</td>\n",
       "      <td>1.059333</td>\n",
       "      <td>0</td>\n",
       "    </tr>\n",
       "    <tr>\n",
       "      <th>9</th>\n",
       "      <td>0</td>\n",
       "      <td>1</td>\n",
       "      <td>0</td>\n",
       "      <td>0</td>\n",
       "      <td>1</td>\n",
       "      <td>1</td>\n",
       "      <td>0</td>\n",
       "      <td>31</td>\n",
       "      <td>65.310836</td>\n",
       "      <td>1.0</td>\n",
       "      <td>11</td>\n",
       "      <td>1.810852</td>\n",
       "      <td>1.951368</td>\n",
       "      <td>0</td>\n",
       "    </tr>\n",
       "  </tbody>\n",
       "</table>\n",
       "</div>"
      ],
      "text/plain": [
       "   Gender  Near_Location  Partner  Promo_friends  Phone  Contract_period  \\\n",
       "0       1              1        1              1      0                6   \n",
       "1       0              1        0              0      1               12   \n",
       "2       0              1        1              0      1                1   \n",
       "3       0              1        1              1      1               12   \n",
       "4       1              1        1              1      1                1   \n",
       "5       1              1        0              0      1                1   \n",
       "6       1              1        1              1      0                6   \n",
       "7       0              1        0              0      1                1   \n",
       "8       1              1        1              1      1                1   \n",
       "9       0              1        0              0      1                1   \n",
       "\n",
       "   Group_visits  Age  Avg_additional_charges_total  Month_to_end_contract  \\\n",
       "0             1   29                     14.227470                    5.0   \n",
       "1             1   31                    113.202938                   12.0   \n",
       "2             0   28                    129.448479                    1.0   \n",
       "3             1   33                     62.669863                   12.0   \n",
       "4             0   26                    198.362265                    1.0   \n",
       "5             1   34                    450.743960                    1.0   \n",
       "6             1   32                     94.266389                    6.0   \n",
       "7             0   30                    217.786641                    1.0   \n",
       "8             1   23                     45.409909                    1.0   \n",
       "9             0   31                     65.310836                    1.0   \n",
       "\n",
       "   Lifetime  Avg_class_frequency_total  Avg_class_frequency_current_month  \\\n",
       "0         3                   0.020398                           0.000000   \n",
       "1         7                   1.922936                           1.910244   \n",
       "2         2                   1.859098                           1.736502   \n",
       "3         2                   3.205633                           3.357215   \n",
       "4         3                   1.113884                           1.120078   \n",
       "5         3                   2.623477                           2.637007   \n",
       "6         2                   1.138941                           1.277242   \n",
       "7         0                   1.213502                           1.049387   \n",
       "8         1                   1.106239                           1.059333   \n",
       "9        11                   1.810852                           1.951368   \n",
       "\n",
       "   Churn  \n",
       "0      0  \n",
       "1      0  \n",
       "2      0  \n",
       "3      0  \n",
       "4      0  \n",
       "5      0  \n",
       "6      0  \n",
       "7      1  \n",
       "8      0  \n",
       "9      0  "
      ]
     },
     "execution_count": 10,
     "metadata": {},
     "output_type": "execute_result"
    }
   ],
   "source": [
    "gym_df.head(10)"
   ]
  },
  {
   "cell_type": "markdown",
   "id": "972b2d99",
   "metadata": {},
   "source": [
    "### Выполним кластеризацию объектов:"
   ]
  },
  {
   "cell_type": "markdown",
   "id": "7362d20f",
   "metadata": {},
   "source": [
    "#### Кластеризируем объекты иерархическим агломеративным методом. \n",
    "Методом, по которому вычисляется расстояние между кластерами выберем \"ward\". Метрикой, по которой вычисляется расстояние между объектами выберем евклидову:"
   ]
  },
  {
   "cell_type": "code",
   "execution_count": 11,
   "id": "34588dfe",
   "metadata": {},
   "outputs": [],
   "source": [
    "sc = StandardScaler()\n",
    "X_sc = sc.fit_transform(gym_df)\n",
    "linked = linkage(X_sc, method = 'ward', metric='euclidean')"
   ]
  },
  {
   "cell_type": "markdown",
   "id": "4936550e",
   "metadata": {},
   "source": [
    "Построим дендрограмму иерархической кластеризации:"
   ]
  },
  {
   "cell_type": "code",
   "execution_count": 12,
   "id": "8bb5a2ab",
   "metadata": {},
   "outputs": [
    {
     "data": {
      "image/png": "[encoded data removed]",
      "text/plain": [
       "<Figure size 1080x720 with 1 Axes>"
      ]
     },
     "metadata": {
      "needs_background": "light"
     },
     "output_type": "display_data"
    }
   ],
   "source": [
    "plt.figure(figsize=(15, 10))\n",
    "dendrogram(linked, orientation='top')\n",
    "plt.title('Hierarchial clustering for GYM')\n",
    "plt.show()"
   ]
  },
  {
   "cell_type": "markdown",
   "id": "6ff8045b",
   "metadata": {},
   "source": [
    "Из дендрограммы предположим, что оптимальное число кластеров равно 5.\n",
    "Определим признаки (характеристики), оказавших наибольшее влияние на выделение кластеров:"
   ]
  },
  {
   "cell_type": "code",
   "execution_count": 13,
   "id": "c24d3e57",
   "metadata": {},
   "outputs": [
    {
     "data": {
      "text/html": [
       "<div>\n",
       "<style scoped>\n",
       "    .dataframe tbody tr th:only-of-type {\n",
       "        vertical-align: middle;\n",
       "    }\n",
       "\n",
       "    .dataframe tbody tr th {\n",
       "        vertical-align: top;\n",
       "    }\n",
       "\n",
       "    .dataframe thead th {\n",
       "        text-align: right;\n",
       "    }\n",
       "</style>\n",
       "<table border=\"1\" class=\"dataframe\">\n",
       "  <thead>\n",
       "    <tr style=\"text-align: right;\">\n",
       "      <th></th>\n",
       "      <th>Gender</th>\n",
       "      <th>Near_Location</th>\n",
       "      <th>Partner</th>\n",
       "      <th>Promo_friends</th>\n",
       "      <th>Phone</th>\n",
       "      <th>Contract_period</th>\n",
       "      <th>Group_visits</th>\n",
       "      <th>Age</th>\n",
       "      <th>Avg_additional_charges_total</th>\n",
       "      <th>Month_to_end_contract</th>\n",
       "      <th>Lifetime</th>\n",
       "      <th>Avg_class_frequency_total</th>\n",
       "      <th>Avg_class_frequency_current_month</th>\n",
       "      <th>Churn</th>\n",
       "    </tr>\n",
       "    <tr>\n",
       "      <th>cluster</th>\n",
       "      <th></th>\n",
       "      <th></th>\n",
       "      <th></th>\n",
       "      <th></th>\n",
       "      <th></th>\n",
       "      <th></th>\n",
       "      <th></th>\n",
       "      <th></th>\n",
       "      <th></th>\n",
       "      <th></th>\n",
       "      <th></th>\n",
       "      <th></th>\n",
       "      <th></th>\n",
       "      <th></th>\n",
       "    </tr>\n",
       "  </thead>\n",
       "  <tbody>\n",
       "    <tr>\n",
       "      <th>1</th>\n",
       "      <td>0.510929</td>\n",
       "      <td>0.997268</td>\n",
       "      <td>0.337432</td>\n",
       "      <td>0.229508</td>\n",
       "      <td>1.000000</td>\n",
       "      <td>1.767760</td>\n",
       "      <td>0.295082</td>\n",
       "      <td>26.927596</td>\n",
       "      <td>115.042074</td>\n",
       "      <td>1.710383</td>\n",
       "      <td>0.986339</td>\n",
       "      <td>1.480896</td>\n",
       "      <td>1.057191</td>\n",
       "      <td>0.998634</td>\n",
       "    </tr>\n",
       "    <tr>\n",
       "      <th>2</th>\n",
       "      <td>0.502732</td>\n",
       "      <td>0.000000</td>\n",
       "      <td>0.500911</td>\n",
       "      <td>0.085610</td>\n",
       "      <td>1.000000</td>\n",
       "      <td>3.020036</td>\n",
       "      <td>0.229508</td>\n",
       "      <td>28.755920</td>\n",
       "      <td>135.796838</td>\n",
       "      <td>2.846995</td>\n",
       "      <td>2.805100</td>\n",
       "      <td>1.778723</td>\n",
       "      <td>1.610243</td>\n",
       "      <td>0.406193</td>\n",
       "    </tr>\n",
       "    <tr>\n",
       "      <th>3</th>\n",
       "      <td>0.472414</td>\n",
       "      <td>0.997701</td>\n",
       "      <td>0.703448</td>\n",
       "      <td>0.489655</td>\n",
       "      <td>1.000000</td>\n",
       "      <td>11.173563</td>\n",
       "      <td>0.548276</td>\n",
       "      <td>29.758621</td>\n",
       "      <td>165.752454</td>\n",
       "      <td>10.251724</td>\n",
       "      <td>4.370115</td>\n",
       "      <td>2.024836</td>\n",
       "      <td>2.025675</td>\n",
       "      <td>0.004598</td>\n",
       "    </tr>\n",
       "    <tr>\n",
       "      <th>4</th>\n",
       "      <td>0.520942</td>\n",
       "      <td>0.861257</td>\n",
       "      <td>0.471204</td>\n",
       "      <td>0.306283</td>\n",
       "      <td>0.000000</td>\n",
       "      <td>4.701571</td>\n",
       "      <td>0.421466</td>\n",
       "      <td>29.277487</td>\n",
       "      <td>144.221728</td>\n",
       "      <td>4.397906</td>\n",
       "      <td>3.782723</td>\n",
       "      <td>1.859095</td>\n",
       "      <td>1.727455</td>\n",
       "      <td>0.269634</td>\n",
       "    </tr>\n",
       "    <tr>\n",
       "      <th>5</th>\n",
       "      <td>0.532379</td>\n",
       "      <td>0.991138</td>\n",
       "      <td>0.431493</td>\n",
       "      <td>0.324472</td>\n",
       "      <td>0.997273</td>\n",
       "      <td>2.901159</td>\n",
       "      <td>0.456033</td>\n",
       "      <td>30.105658</td>\n",
       "      <td>156.587807</td>\n",
       "      <td>2.642808</td>\n",
       "      <td>5.037491</td>\n",
       "      <td>2.033922</td>\n",
       "      <td>2.036875</td>\n",
       "      <td>0.000000</td>\n",
       "    </tr>\n",
       "  </tbody>\n",
       "</table>\n",
       "</div>"
      ],
      "text/plain": [
       "           Gender  Near_Location   Partner  Promo_friends     Phone  \\\n",
       "cluster                                                               \n",
       "1        0.510929       0.997268  0.337432       0.229508  1.000000   \n",
       "2        0.502732       0.000000  0.500911       0.085610  1.000000   \n",
       "3        0.472414       0.997701  0.703448       0.489655  1.000000   \n",
       "4        0.520942       0.861257  0.471204       0.306283  0.000000   \n",
       "5        0.532379       0.991138  0.431493       0.324472  0.997273   \n",
       "\n",
       "         Contract_period  Group_visits        Age  \\\n",
       "cluster                                             \n",
       "1               1.767760      0.295082  26.927596   \n",
       "2               3.020036      0.229508  28.755920   \n",
       "3              11.173563      0.548276  29.758621   \n",
       "4               4.701571      0.421466  29.277487   \n",
       "5               2.901159      0.456033  30.105658   \n",
       "\n",
       "         Avg_additional_charges_total  Month_to_end_contract  Lifetime  \\\n",
       "cluster                                                                  \n",
       "1                          115.042074               1.710383  0.986339   \n",
       "2                          135.796838               2.846995  2.805100   \n",
       "3                          165.752454              10.251724  4.370115   \n",
       "4                          144.221728               4.397906  3.782723   \n",
       "5                          156.587807               2.642808  5.037491   \n",
       "\n",
       "         Avg_class_frequency_total  Avg_class_frequency_current_month  \\\n",
       "cluster                                                                 \n",
       "1                         1.480896                           1.057191   \n",
       "2                         1.778723                           1.610243   \n",
       "3                         2.024836                           2.025675   \n",
       "4                         1.859095                           1.727455   \n",
       "5                         2.033922                           2.036875   \n",
       "\n",
       "            Churn  \n",
       "cluster            \n",
       "1        0.998634  \n",
       "2        0.406193  \n",
       "3        0.004598  \n",
       "4        0.269634  \n",
       "5        0.000000  "
      ]
     },
     "execution_count": 13,
     "metadata": {},
     "output_type": "execute_result"
    }
   ],
   "source": [
    "gym_df['cluster'] = fcluster(linked, 5, criterion='maxclust')\n",
    "gym_df.groupby('cluster').mean()"
   ]
  },
  {
   "cell_type": "markdown",
   "id": "b3a06778",
   "metadata": {},
   "source": [
    "После усреднения значений можно увидеть, что на выделение кластеров оказали влияние такие признаки, как: Near_Location, Phone, Contract_period, Month_to_end_contract и Churn. \n",
    "\n",
    "Опишем полученые кластеры:\n",
    "1. К первому кластеру относятся люди либо покинувшие фитнес клуб, либо те, кто скоро может его покинуть. Соответственно там минимум сотрудников компаний партнёра. Это люди купившие абонемент на короткий срок, они редко посещают фитнес клуб и не любящие тратиться на дополнительные услуги. Примечательно также то, что, в среднем, в данном кластере самые молодые люди. Это \"Ненадёжные клиенты\".\n",
    "2. Ко второму кластеру относятся люди, живущие далеко от фитнес клуба. Среди них минимальное количество людей, пришедших по промо друзей. Это \"Далеко живущие люди\".\n",
    "3. К третьему кластеру относятся люди, с самой большой длительностью текущего абонемента. Они сильно тратятся на дополнительные услуги и зачастую посещают групповые занятия. Среди них небольшой процент покинувших фитнес клуб и они довольно часто посещают занятия. Зачастую это сотрудники компании партнёра. Это \"Прибыльные клиенты\".\n",
    "4. Люди, относящиеся к четвёртому кластеру примечательны только тем, что ни один из них не указал номер своего телефона. Это \"Скрытные люди\".\n",
    "5. В последнем кластере люди дольше всего посещающие питнес клуб. Ни один из них не покинул его. Они чаще всех посещают занятия. В среднем это самые великовозрастные люди. Это \"Надёжные клиенты\"."
   ]
  },
  {
   "cell_type": "markdown",
   "id": "df61129d",
   "metadata": {},
   "source": [
    "#### Кластеризируем объекты методом k-средних. \n",
    "Число кластеров зададим равным 5"
   ]
  },
  {
   "cell_type": "code",
   "execution_count": 14,
   "id": "f9f69440",
   "metadata": {},
   "outputs": [
    {
     "data": {
      "text/plain": [
       "KMeans(n_clusters=5, random_state=0)"
      ]
     },
     "execution_count": 14,
     "metadata": {},
     "output_type": "execute_result"
    }
   ],
   "source": [
    "sc = StandardScaler()\n",
    "X_sc = sc.fit_transform(gym_df) # Стандартизация данных\n",
    "model = KMeans(n_clusters=5, random_state=0) #Инициализация модели\n",
    "model.fit(X_sc) # Подгонка модели по данным из X_sc"
   ]
  },
  {
   "cell_type": "markdown",
   "id": "61c56537",
   "metadata": {},
   "source": [
    "Определим евклидовы расстояния между объектами:"
   ]
  },
  {
   "cell_type": "code",
   "execution_count": 15,
   "id": "1f00d9b8",
   "metadata": {},
   "outputs": [
    {
     "data": {
      "text/plain": [
       "array([[0.        , 6.23013076, 5.89311576, ..., 5.97919373, 5.1148807 ,\n",
       "        4.72925207],\n",
       "       [6.23013076, 0.        , 5.02725244, ..., 4.60312425, 4.36382722,\n",
       "        5.66335497],\n",
       "       [5.89311576, 5.02725244, 0.        , ..., 4.92175006, 3.26647096,\n",
       "        6.49395956],\n",
       "       ...,\n",
       "       [5.97919373, 4.60312425, 4.92175006, ..., 0.        , 3.49129681,\n",
       "        5.98896315],\n",
       "       [5.1148807 , 4.36382722, 3.26647096, ..., 3.49129681, 0.        ,\n",
       "        6.29323763],\n",
       "       [4.72925207, 5.66335497, 6.49395956, ..., 5.98896315, 6.29323763,\n",
       "        0.        ]])"
      ]
     },
     "execution_count": 15,
     "metadata": {},
     "output_type": "execute_result"
    }
   ],
   "source": [
    "euclidean_distances(X_sc)"
   ]
  },
  {
   "cell_type": "markdown",
   "id": "510f7dd3",
   "metadata": {},
   "source": [
    "Определим объекты, относящиеся к каждому кластеру:"
   ]
  },
  {
   "cell_type": "code",
   "execution_count": 16,
   "id": "5e2569a1",
   "metadata": {},
   "outputs": [
    {
     "data": {
      "text/plain": [
       "array([3, 1, 3, ..., 1, 3, 1])"
      ]
     },
     "execution_count": 16,
     "metadata": {},
     "output_type": "execute_result"
    }
   ],
   "source": [
    "model.labels_"
   ]
  },
  {
   "cell_type": "markdown",
   "id": "f02be876",
   "metadata": {},
   "source": [
    "Выведем таблицу средних значений в каждом кластере и определим признаки, оказавшие наибольшее влияние на выделение кластеров:"
   ]
  },
  {
   "cell_type": "code",
   "execution_count": 17,
   "id": "bb20e1a5",
   "metadata": {},
   "outputs": [
    {
     "data": {
      "text/html": [
       "<div>\n",
       "<style scoped>\n",
       "    .dataframe tbody tr th:only-of-type {\n",
       "        vertical-align: middle;\n",
       "    }\n",
       "\n",
       "    .dataframe tbody tr th {\n",
       "        vertical-align: top;\n",
       "    }\n",
       "\n",
       "    .dataframe thead th {\n",
       "        text-align: right;\n",
       "    }\n",
       "</style>\n",
       "<table border=\"1\" class=\"dataframe\">\n",
       "  <thead>\n",
       "    <tr style=\"text-align: right;\">\n",
       "      <th></th>\n",
       "      <th>Gender</th>\n",
       "      <th>Near_Location</th>\n",
       "      <th>Partner</th>\n",
       "      <th>Promo_friends</th>\n",
       "      <th>Phone</th>\n",
       "      <th>Contract_period</th>\n",
       "      <th>Group_visits</th>\n",
       "      <th>Age</th>\n",
       "      <th>Avg_additional_charges_total</th>\n",
       "      <th>Month_to_end_contract</th>\n",
       "      <th>Lifetime</th>\n",
       "      <th>Avg_class_frequency_total</th>\n",
       "      <th>Avg_class_frequency_current_month</th>\n",
       "      <th>Churn</th>\n",
       "    </tr>\n",
       "    <tr>\n",
       "      <th>cluster</th>\n",
       "      <th></th>\n",
       "      <th></th>\n",
       "      <th></th>\n",
       "      <th></th>\n",
       "      <th></th>\n",
       "      <th></th>\n",
       "      <th></th>\n",
       "      <th></th>\n",
       "      <th></th>\n",
       "      <th></th>\n",
       "      <th></th>\n",
       "      <th></th>\n",
       "      <th></th>\n",
       "      <th></th>\n",
       "    </tr>\n",
       "  </thead>\n",
       "  <tbody>\n",
       "    <tr>\n",
       "      <th>0</th>\n",
       "      <td>0.559763</td>\n",
       "      <td>0.983432</td>\n",
       "      <td>0.392899</td>\n",
       "      <td>0.298225</td>\n",
       "      <td>0.900592</td>\n",
       "      <td>2.900592</td>\n",
       "      <td>0.478107</td>\n",
       "      <td>30.067456</td>\n",
       "      <td>161.035105</td>\n",
       "      <td>2.671006</td>\n",
       "      <td>4.803550</td>\n",
       "      <td>2.910258</td>\n",
       "      <td>2.919108</td>\n",
       "      <td>0.004734</td>\n",
       "    </tr>\n",
       "    <tr>\n",
       "      <th>1</th>\n",
       "      <td>0.502575</td>\n",
       "      <td>0.943357</td>\n",
       "      <td>0.740474</td>\n",
       "      <td>0.511843</td>\n",
       "      <td>0.901133</td>\n",
       "      <td>11.697219</td>\n",
       "      <td>0.556128</td>\n",
       "      <td>29.849640</td>\n",
       "      <td>163.518713</td>\n",
       "      <td>10.709578</td>\n",
       "      <td>4.673532</td>\n",
       "      <td>2.007930</td>\n",
       "      <td>2.002536</td>\n",
       "      <td>0.014418</td>\n",
       "    </tr>\n",
       "    <tr>\n",
       "      <th>2</th>\n",
       "      <td>0.500914</td>\n",
       "      <td>0.000000</td>\n",
       "      <td>0.466179</td>\n",
       "      <td>0.078611</td>\n",
       "      <td>0.917733</td>\n",
       "      <td>2.171846</td>\n",
       "      <td>0.208410</td>\n",
       "      <td>28.553931</td>\n",
       "      <td>133.552346</td>\n",
       "      <td>2.053016</td>\n",
       "      <td>2.628885</td>\n",
       "      <td>1.702013</td>\n",
       "      <td>1.512410</td>\n",
       "      <td>0.447898</td>\n",
       "    </tr>\n",
       "    <tr>\n",
       "      <th>3</th>\n",
       "      <td>0.472619</td>\n",
       "      <td>0.996429</td>\n",
       "      <td>0.447619</td>\n",
       "      <td>0.317857</td>\n",
       "      <td>0.896429</td>\n",
       "      <td>2.885714</td>\n",
       "      <td>0.423810</td>\n",
       "      <td>30.050000</td>\n",
       "      <td>152.644855</td>\n",
       "      <td>2.676190</td>\n",
       "      <td>4.866667</td>\n",
       "      <td>1.187701</td>\n",
       "      <td>1.182941</td>\n",
       "      <td>0.002381</td>\n",
       "    </tr>\n",
       "    <tr>\n",
       "      <th>4</th>\n",
       "      <td>0.513174</td>\n",
       "      <td>1.000000</td>\n",
       "      <td>0.332497</td>\n",
       "      <td>0.219573</td>\n",
       "      <td>0.907152</td>\n",
       "      <td>1.636136</td>\n",
       "      <td>0.294856</td>\n",
       "      <td>26.957340</td>\n",
       "      <td>114.992178</td>\n",
       "      <td>1.585947</td>\n",
       "      <td>0.973651</td>\n",
       "      <td>1.478722</td>\n",
       "      <td>1.049109</td>\n",
       "      <td>0.998745</td>\n",
       "    </tr>\n",
       "  </tbody>\n",
       "</table>\n",
       "</div>"
      ],
      "text/plain": [
       "           Gender  Near_Location   Partner  Promo_friends     Phone  \\\n",
       "cluster                                                               \n",
       "0        0.559763       0.983432  0.392899       0.298225  0.900592   \n",
       "1        0.502575       0.943357  0.740474       0.511843  0.901133   \n",
       "2        0.500914       0.000000  0.466179       0.078611  0.917733   \n",
       "3        0.472619       0.996429  0.447619       0.317857  0.896429   \n",
       "4        0.513174       1.000000  0.332497       0.219573  0.907152   \n",
       "\n",
       "         Contract_period  Group_visits        Age  \\\n",
       "cluster                                             \n",
       "0               2.900592      0.478107  30.067456   \n",
       "1              11.697219      0.556128  29.849640   \n",
       "2               2.171846      0.208410  28.553931   \n",
       "3               2.885714      0.423810  30.050000   \n",
       "4               1.636136      0.294856  26.957340   \n",
       "\n",
       "         Avg_additional_charges_total  Month_to_end_contract  Lifetime  \\\n",
       "cluster                                                                  \n",
       "0                          161.035105               2.671006  4.803550   \n",
       "1                          163.518713              10.709578  4.673532   \n",
       "2                          133.552346               2.053016  2.628885   \n",
       "3                          152.644855               2.676190  4.866667   \n",
       "4                          114.992178               1.585947  0.973651   \n",
       "\n",
       "         Avg_class_frequency_total  Avg_class_frequency_current_month  \\\n",
       "cluster                                                                 \n",
       "0                         2.910258                           2.919108   \n",
       "1                         2.007930                           2.002536   \n",
       "2                         1.702013                           1.512410   \n",
       "3                         1.187701                           1.182941   \n",
       "4                         1.478722                           1.049109   \n",
       "\n",
       "            Churn  \n",
       "cluster            \n",
       "0        0.004734  \n",
       "1        0.014418  \n",
       "2        0.447898  \n",
       "3        0.002381  \n",
       "4        0.998745  "
      ]
     },
     "execution_count": 17,
     "metadata": {},
     "output_type": "execute_result"
    }
   ],
   "source": [
    "gym_df['cluster'] = model.labels_\n",
    "gym_df.groupby('cluster').mean()"
   ]
  },
  {
   "cell_type": "markdown",
   "id": "6d9a9a0b",
   "metadata": {},
   "source": [
    "После усреднения значений можно увидеть, что на выделение кластеров оказали влияние такие признаки, как: Near_Location, Contract_period, Phone, Month_to_end_contract и Churn.\n",
    "\n",
    "Опишем полученые кластеры:\n",
    "\n",
    "1. К первой группе относятся \"Идеальные клиенты\". Это люди пришедшие по промо друзей или являющиеся сотрудниками компании партнёра и они имеют самый длительный абонимент, больше всего тратятся на дополнительные услуги и зачастую посещают групповые занятия. Среди них мало людей покинувших клуб.\n",
    "2. Второй кластер состоит из людей живущих далеко от фитнес клуба. Среди них мало тех, кто пришёл по промо друзей и они реже всех посещают групповые занятия. Среди них приличный процент покинули фитнес клуб. Это \"Далеко живущие люди\".\n",
    "3. В третьем кластере находятся \"Надёжные клиенты\" - те, среди которых минимальный процент покинувших фитнес клуб. Они дольше всех посещают его и чаще всех ходят на занятия. В среднем это самые великовозрастные люди.\n",
    "4. Четвёртый кластер состоит из \"Ненадёжных клиентов\". Большинство из них уже покинули клуб. В среднем они занимаются по абонементам с наименьшей длительностью, реже всех ходят в спортзал и мало тратятся. Как правило это самые молодые люди.\n",
    "5. В пятом кластере \"Скрытные люди\" н указавшие свой телефон."
   ]
  },
  {
   "cell_type": "markdown",
   "id": "29b6f069",
   "metadata": {},
   "source": [
    "Определим оптимальное число кластеров  методом \"локтя\":"
   ]
  },
  {
   "cell_type": "code",
   "execution_count": 18,
   "id": "6f4001f5",
   "metadata": {},
   "outputs": [
    {
     "data": {
      "image/png": "[encoded data removed]",
      "text/plain": [
       "<Figure size 432x288 with 1 Axes>"
      ]
     },
     "metadata": {
      "needs_background": "light"
     },
     "output_type": "display_data"
    }
   ],
   "source": [
    "K = range(1, 16)\n",
    "models = [KMeans(n_clusters = k, random_state=0).fit(X_sc) for k in K]\n",
    "dist = [model.inertia_ for model in models]\n",
    "\n",
    "plt.plot(K, dist, marker='o')\n",
    "plt.xlabel('k')\n",
    "plt.ylabel('Sum of distances')\n",
    "plt.title('The Elbow method')\n",
    "plt.show()"
   ]
  },
  {
   "cell_type": "markdown",
   "id": "a5f938a7",
   "metadata": {},
   "source": [
    "Из графика видно, что график становится круче при значении k=5, что означает, что оптимальное число кластеров равно пяти."
   ]
  },
  {
   "cell_type": "markdown",
   "id": "64592bbd",
   "metadata": {},
   "source": [
    "**Вывод:** в ходе выполнения работы были изучены алгоритмы и методы кластерного анализа. Над набором данных 5gym_churn была проведена кластеризация иерархическим агломеративным методом и методом k-средних. Было выявлено 5 кластеров - \"Прибыльные клиенты\", \"Далеко живущие люди\", \"Надёжные клиенты\", \"Ненадёжные клиенты\" и \"Скрытные люди\"."
   ]
  },
  {
   "cell_type": "markdown",
   "id": "d29393b9",
   "metadata": {},
   "source": [
    "## Дополнительное задание"
   ]
  },
  {
   "cell_type": "markdown",
   "id": "a62b3824",
   "metadata": {},
   "source": [
    "Построим метрики силуэтов для количества кластеров от 2 до 10:"
   ]
  },
  {
   "cell_type": "code",
   "execution_count": 26,
   "id": "02ec1072",
   "metadata": {},
   "outputs": [
    {
     "data": {
      "text/html": [
       "<div>\n",
       "<style scoped>\n",
       "    .dataframe tbody tr th:only-of-type {\n",
       "        vertical-align: middle;\n",
       "    }\n",
       "\n",
       "    .dataframe tbody tr th {\n",
       "        vertical-align: top;\n",
       "    }\n",
       "\n",
       "    .dataframe thead th {\n",
       "        text-align: right;\n",
       "    }\n",
       "</style>\n",
       "<table border=\"1\" class=\"dataframe\">\n",
       "  <thead>\n",
       "    <tr style=\"text-align: right;\">\n",
       "      <th></th>\n",
       "      <th>count</th>\n",
       "      <th>res</th>\n",
       "    </tr>\n",
       "  </thead>\n",
       "  <tbody>\n",
       "    <tr>\n",
       "      <th>0</th>\n",
       "      <td>2</td>\n",
       "      <td>0.174397</td>\n",
       "    </tr>\n",
       "    <tr>\n",
       "      <th>1</th>\n",
       "      <td>3</td>\n",
       "      <td>0.166808</td>\n",
       "    </tr>\n",
       "    <tr>\n",
       "      <th>2</th>\n",
       "      <td>4</td>\n",
       "      <td>0.153013</td>\n",
       "    </tr>\n",
       "    <tr>\n",
       "      <th>3</th>\n",
       "      <td>5</td>\n",
       "      <td>0.162003</td>\n",
       "    </tr>\n",
       "    <tr>\n",
       "      <th>4</th>\n",
       "      <td>6</td>\n",
       "      <td>0.154048</td>\n",
       "    </tr>\n",
       "    <tr>\n",
       "      <th>5</th>\n",
       "      <td>7</td>\n",
       "      <td>0.139435</td>\n",
       "    </tr>\n",
       "    <tr>\n",
       "      <th>6</th>\n",
       "      <td>8</td>\n",
       "      <td>0.136112</td>\n",
       "    </tr>\n",
       "    <tr>\n",
       "      <th>7</th>\n",
       "      <td>9</td>\n",
       "      <td>0.138003</td>\n",
       "    </tr>\n",
       "    <tr>\n",
       "      <th>8</th>\n",
       "      <td>10</td>\n",
       "      <td>0.152653</td>\n",
       "    </tr>\n",
       "  </tbody>\n",
       "</table>\n",
       "</div>"
      ],
      "text/plain": [
       "   count       res\n",
       "0      2  0.174397\n",
       "1      3  0.166808\n",
       "2      4  0.153013\n",
       "3      5  0.162003\n",
       "4      6  0.154048\n",
       "5      7  0.139435\n",
       "6      8  0.136112\n",
       "7      9  0.138003\n",
       "8     10  0.152653"
      ]
     },
     "execution_count": 26,
     "metadata": {},
     "output_type": "execute_result"
    }
   ],
   "source": [
    "res = []\n",
    "count = []\n",
    "for i in range(2,11):\n",
    "    count.append(i)\n",
    "    sc = StandardScaler()\n",
    "    x_sc = sc.fit_transform(gym_df)\n",
    "    km = KMeans(n_clusters=i, random_state=0)\n",
    "    labels = km.fit_predict(X_sc)\n",
    "    res.append(silhouette_score(x_sc, labels))\n",
    "\n",
    "d = {'count': count, 'res': res}\n",
    "df = pd.DataFrame(data=d)\n",
    "df"
   ]
  }
 ],
 "metadata": {
  "kernelspec": {
   "display_name": "Python 3 (ipykernel)",
   "language": "python",
   "name": "python3"
  },
  "language_info": {
   "codemirror_mode": {
    "name": "ipython",
    "version": 3
   },
   "file_extension": ".py",
   "mimetype": "text/x-python",
   "name": "python",
   "nbconvert_exporter": "python",
   "pygments_lexer": "ipython3",
   "version": "3.9.12"
  }
 },
 "nbformat": 4,
 "nbformat_minor": 5
}
