{
 "cells": [
  {
   "cell_type": "markdown",
   "id": "5fe62143",
   "metadata": {},
   "source": [
    "Импорты библиотек:"
   ]
  },
  {
   "cell_type": "code",
   "execution_count": 1,
   "id": "d3bb7201",
   "metadata": {},
   "outputs": [],
   "source": [
    "import pandas as pd\n",
    "import numpy as np"
   ]
  },
  {
   "cell_type": "markdown",
   "id": "1d9d31c0",
   "metadata": {},
   "source": [
    "# Обработка данных"
   ]
  },
  {
   "cell_type": "markdown",
   "id": "20693941",
   "metadata": {},
   "source": [
    "Загрузим датасет 5music.csv с помощью библиотеки pandas в Jupyter-ноутбуке и выведем первые 20 строк при помощи команды head:"
   ]
  },
  {
   "cell_type": "code",
   "execution_count": 2,
   "id": "003bfafa",
   "metadata": {},
   "outputs": [
    {
     "data": {
      "text/html": [
       "<div>\n",
       "<style scoped>\n",
       "    .dataframe tbody tr th:only-of-type {\n",
       "        vertical-align: middle;\n",
       "    }\n",
       "\n",
       "    .dataframe tbody tr th {\n",
       "        vertical-align: top;\n",
       "    }\n",
       "\n",
       "    .dataframe thead th {\n",
       "        text-align: right;\n",
       "    }\n",
       "</style>\n",
       "<table border=\"1\" class=\"dataframe\">\n",
       "  <thead>\n",
       "    <tr style=\"text-align: right;\">\n",
       "      <th></th>\n",
       "      <th>userID</th>\n",
       "      <th>trackname</th>\n",
       "      <th>Artistname</th>\n",
       "      <th>genre</th>\n",
       "      <th>City</th>\n",
       "      <th>time</th>\n",
       "      <th>Dayweek;;</th>\n",
       "    </tr>\n",
       "  </thead>\n",
       "  <tbody>\n",
       "    <tr>\n",
       "      <th>0</th>\n",
       "      <td>FFB692EC</td>\n",
       "      <td>Kamigata To Boots</td>\n",
       "      <td>The Mass Missile</td>\n",
       "      <td>rock</td>\n",
       "      <td>Saint-Petersburg</td>\n",
       "      <td>20:28:33</td>\n",
       "      <td>Wednesday;;</td>\n",
       "    </tr>\n",
       "    <tr>\n",
       "      <th>1</th>\n",
       "      <td>55204538</td>\n",
       "      <td>Delayed Because of Accident</td>\n",
       "      <td>Andreas Rönnberg</td>\n",
       "      <td>rock</td>\n",
       "      <td>Moscow</td>\n",
       "      <td>14:07:09</td>\n",
       "      <td>Friday;;</td>\n",
       "    </tr>\n",
       "    <tr>\n",
       "      <th>2</th>\n",
       "      <td>20EC38</td>\n",
       "      <td>Funiculì funiculà</td>\n",
       "      <td>Mario Lanza</td>\n",
       "      <td>pop</td>\n",
       "      <td>Saint-Petersburg</td>\n",
       "      <td>20:58:07</td>\n",
       "      <td>Wednesday;;</td>\n",
       "    </tr>\n",
       "    <tr>\n",
       "      <th>3</th>\n",
       "      <td>A3DD03C9</td>\n",
       "      <td>Dragons in the Sunset</td>\n",
       "      <td>Fire + Ice</td>\n",
       "      <td>folk</td>\n",
       "      <td>Saint-Petersburg</td>\n",
       "      <td>08:37:09</td>\n",
       "      <td>Monday;;</td>\n",
       "    </tr>\n",
       "    <tr>\n",
       "      <th>4</th>\n",
       "      <td>E2DC1FAE</td>\n",
       "      <td>Soul People</td>\n",
       "      <td>Space Echo</td>\n",
       "      <td>dance</td>\n",
       "      <td>Moscow</td>\n",
       "      <td>08:34:34</td>\n",
       "      <td>Monday;;</td>\n",
       "    </tr>\n",
       "    <tr>\n",
       "      <th>5</th>\n",
       "      <td>842029A1</td>\n",
       "      <td>Преданная</td>\n",
       "      <td>IMPERVTOR</td>\n",
       "      <td>rusrap</td>\n",
       "      <td>Saint-Petersburg</td>\n",
       "      <td>13:09:41</td>\n",
       "      <td>Friday;;</td>\n",
       "    </tr>\n",
       "    <tr>\n",
       "      <th>6</th>\n",
       "      <td>4CB90AA5</td>\n",
       "      <td>True</td>\n",
       "      <td>Roman Messer</td>\n",
       "      <td>dance</td>\n",
       "      <td>Moscow</td>\n",
       "      <td>13:00:07</td>\n",
       "      <td>Wednesday;;</td>\n",
       "    </tr>\n",
       "    <tr>\n",
       "      <th>7</th>\n",
       "      <td>F03E1C1F</td>\n",
       "      <td>Feeling This Way</td>\n",
       "      <td>Polina Griffith</td>\n",
       "      <td>dance</td>\n",
       "      <td>Moscow</td>\n",
       "      <td>20:47:49</td>\n",
       "      <td>Wednesday;;</td>\n",
       "    </tr>\n",
       "    <tr>\n",
       "      <th>8</th>\n",
       "      <td>8FA1D3BE</td>\n",
       "      <td>И вновь продолжается бой</td>\n",
       "      <td>NaN</td>\n",
       "      <td>ruspop</td>\n",
       "      <td>Moscow</td>\n",
       "      <td>09:17:40</td>\n",
       "      <td>Friday;;</td>\n",
       "    </tr>\n",
       "    <tr>\n",
       "      <th>9</th>\n",
       "      <td>E772D5C0</td>\n",
       "      <td>Pessimist</td>\n",
       "      <td>NaN</td>\n",
       "      <td>dance</td>\n",
       "      <td>Saint-Petersburg</td>\n",
       "      <td>21:20:49</td>\n",
       "      <td>Wednesday;;</td>\n",
       "    </tr>\n",
       "    <tr>\n",
       "      <th>10</th>\n",
       "      <td>BC5A3A29</td>\n",
       "      <td>Gool la Mita</td>\n",
       "      <td>Shireen Abdul Wahab</td>\n",
       "      <td>world</td>\n",
       "      <td>Moscow</td>\n",
       "      <td>14:08:42</td>\n",
       "      <td>Monday;;</td>\n",
       "    </tr>\n",
       "    <tr>\n",
       "      <th>11</th>\n",
       "      <td>8B5192C0</td>\n",
       "      <td>Is There Anybody Out There? (Panoramic Paralys...</td>\n",
       "      <td>Pink Floyd Floydhead</td>\n",
       "      <td>electronic</td>\n",
       "      <td>Moscow</td>\n",
       "      <td>13:47:49</td>\n",
       "      <td>Monday;;</td>\n",
       "    </tr>\n",
       "    <tr>\n",
       "      <th>12</th>\n",
       "      <td>FF3FD2BD</td>\n",
       "      <td>Мина син генэ кирэк</td>\n",
       "      <td>Ильдар Хакимов</td>\n",
       "      <td>pop</td>\n",
       "      <td>Moscow</td>\n",
       "      <td>09:19:49</td>\n",
       "      <td>Monday;;</td>\n",
       "    </tr>\n",
       "    <tr>\n",
       "      <th>13</th>\n",
       "      <td>CC782B0F</td>\n",
       "      <td>After School Special</td>\n",
       "      <td>Detroit Grand Pubahs</td>\n",
       "      <td>dance</td>\n",
       "      <td>Moscow</td>\n",
       "      <td>20:04:12</td>\n",
       "      <td>Friday;;</td>\n",
       "    </tr>\n",
       "    <tr>\n",
       "      <th>14</th>\n",
       "      <td>94EB25C2</td>\n",
       "      <td>Make Love Whenever You Can</td>\n",
       "      <td>Arabesque</td>\n",
       "      <td>pop</td>\n",
       "      <td>Saint-Petersburg</td>\n",
       "      <td>13:22:08</td>\n",
       "      <td>Wednesday;;</td>\n",
       "    </tr>\n",
       "    <tr>\n",
       "      <th>15</th>\n",
       "      <td>E3C5756F</td>\n",
       "      <td>NaN</td>\n",
       "      <td>NaN</td>\n",
       "      <td>NaN</td>\n",
       "      <td>Moscow</td>\n",
       "      <td>09:24:51</td>\n",
       "      <td>Monday;;</td>\n",
       "    </tr>\n",
       "    <tr>\n",
       "      <th>16</th>\n",
       "      <td>81D05C7D</td>\n",
       "      <td>SLAVES OF FEAR</td>\n",
       "      <td>HEALTH</td>\n",
       "      <td>alternative</td>\n",
       "      <td>Saint-Petersburg</td>\n",
       "      <td>20:54:48</td>\n",
       "      <td>Monday;;</td>\n",
       "    </tr>\n",
       "    <tr>\n",
       "      <th>17</th>\n",
       "      <td>39DE290E</td>\n",
       "      <td>Веснянка</td>\n",
       "      <td>Веданъ Колодъ</td>\n",
       "      <td>folk</td>\n",
       "      <td>Saint-Petersburg</td>\n",
       "      <td>14:36:47</td>\n",
       "      <td>Monday;;</td>\n",
       "    </tr>\n",
       "    <tr>\n",
       "      <th>18</th>\n",
       "      <td>58AE138A</td>\n",
       "      <td>Pat-a-Cake</td>\n",
       "      <td>Mother Goose Club</td>\n",
       "      <td>children</td>\n",
       "      <td>Saint-Petersburg</td>\n",
       "      <td>20:04:56</td>\n",
       "      <td>Monday;;</td>\n",
       "    </tr>\n",
       "    <tr>\n",
       "      <th>19</th>\n",
       "      <td>772F5B59</td>\n",
       "      <td>Sweetback</td>\n",
       "      <td>The Fabulous Three</td>\n",
       "      <td>rnb</td>\n",
       "      <td>Moscow</td>\n",
       "      <td>13:56:42</td>\n",
       "      <td>Wednesday;;</td>\n",
       "    </tr>\n",
       "  </tbody>\n",
       "</table>\n",
       "</div>"
      ],
      "text/plain": [
       "      userID                                          trackname  \\\n",
       "0   FFB692EC                                  Kamigata To Boots   \n",
       "1   55204538                        Delayed Because of Accident   \n",
       "2     20EC38                                  Funiculì funiculà   \n",
       "3   A3DD03C9                              Dragons in the Sunset   \n",
       "4   E2DC1FAE                                        Soul People   \n",
       "5   842029A1                                          Преданная   \n",
       "6   4CB90AA5                                               True   \n",
       "7   F03E1C1F                                   Feeling This Way   \n",
       "8   8FA1D3BE                           И вновь продолжается бой   \n",
       "9   E772D5C0                                          Pessimist   \n",
       "10  BC5A3A29                                       Gool la Mita   \n",
       "11  8B5192C0  Is There Anybody Out There? (Panoramic Paralys...   \n",
       "12  FF3FD2BD                                Мина син генэ кирэк   \n",
       "13  CC782B0F                               After School Special   \n",
       "14  94EB25C2                         Make Love Whenever You Can   \n",
       "15  E3C5756F                                                NaN   \n",
       "16  81D05C7D                                     SLAVES OF FEAR   \n",
       "17  39DE290E                                           Веснянка   \n",
       "18  58AE138A                                         Pat-a-Cake   \n",
       "19  772F5B59                                          Sweetback   \n",
       "\n",
       "              Artistname        genre            City        time    Dayweek;;  \n",
       "0       The Mass Missile         rock  Saint-Petersburg  20:28:33  Wednesday;;  \n",
       "1       Andreas Rönnberg         rock            Moscow  14:07:09     Friday;;  \n",
       "2            Mario Lanza          pop  Saint-Petersburg  20:58:07  Wednesday;;  \n",
       "3             Fire + Ice         folk  Saint-Petersburg  08:37:09     Monday;;  \n",
       "4             Space Echo        dance            Moscow  08:34:34     Monday;;  \n",
       "5              IMPERVTOR       rusrap  Saint-Petersburg  13:09:41     Friday;;  \n",
       "6           Roman Messer        dance            Moscow  13:00:07  Wednesday;;  \n",
       "7        Polina Griffith        dance            Moscow  20:47:49  Wednesday;;  \n",
       "8                    NaN       ruspop            Moscow  09:17:40     Friday;;  \n",
       "9                    NaN        dance  Saint-Petersburg  21:20:49  Wednesday;;  \n",
       "10   Shireen Abdul Wahab        world            Moscow  14:08:42     Monday;;  \n",
       "11  Pink Floyd Floydhead   electronic            Moscow  13:47:49     Monday;;  \n",
       "12        Ильдар Хакимов          pop            Moscow  09:19:49     Monday;;  \n",
       "13  Detroit Grand Pubahs        dance            Moscow  20:04:12     Friday;;  \n",
       "14             Arabesque          pop  Saint-Petersburg  13:22:08  Wednesday;;  \n",
       "15                   NaN          NaN            Moscow  09:24:51     Monday;;  \n",
       "16                HEALTH  alternative  Saint-Petersburg  20:54:48     Monday;;  \n",
       "17         Веданъ Колодъ         folk  Saint-Petersburg  14:36:47     Monday;;  \n",
       "18     Mother Goose Club     children  Saint-Petersburg  20:04:56     Monday;;  \n",
       "19    The Fabulous Three          rnb            Moscow  13:56:42  Wednesday;;  "
      ]
     },
     "metadata": {},
     "output_type": "display_data"
    }
   ],
   "source": [
    "music_df = pd.read_csv('C:/Users/dmitr/Downloads/5music.csv')\n",
    "display(music_df.head(20))"
   ]
  },
  {
   "cell_type": "markdown",
   "id": "f015af31",
   "metadata": {},
   "source": [
    "Файл 5music.csv содержит информацию о прослушанных треках пользователя: \n",
    "1. userID - идентификатор пользователя; \n",
    "2. Trackname - название трека; \n",
    "3. Artistname - имя исполнителя; \n",
    "4. Genre - название жанра; \n",
    "5. City - город пользователя; \n",
    "6. Time - время начала прослушивания; \n",
    "7. Dayweek – день недели."
   ]
  },
  {
   "cell_type": "markdown",
   "id": "36338e66",
   "metadata": {},
   "source": [
    "С помощью метода .info оценим данные:"
   ]
  },
  {
   "cell_type": "code",
   "execution_count": 3,
   "id": "850b51a1",
   "metadata": {},
   "outputs": [
    {
     "name": "stdout",
     "output_type": "stream",
     "text": [
      "<class 'pandas.core.frame.DataFrame'>\n",
      "RangeIndex: 65215 entries, 0 to 65214\n",
      "Data columns (total 7 columns):\n",
      " #   Column      Non-Null Count  Dtype \n",
      "---  ------      --------------  ----- \n",
      " 0     userID    65215 non-null  object\n",
      " 1   trackname   63256 non-null  object\n",
      " 2   Artistname  57330 non-null  object\n",
      " 3   genre       63292 non-null  object\n",
      " 4     City      64487 non-null  object\n",
      " 5   time        64487 non-null  object\n",
      " 6   Dayweek;;   64485 non-null  object\n",
      "dtypes: object(7)\n",
      "memory usage: 3.5+ MB\n"
     ]
    }
   ],
   "source": [
    "music_df.info()"
   ]
  },
  {
   "cell_type": "markdown",
   "id": "07911002",
   "metadata": {},
   "source": [
    "Выведем на экран названия столбцов с помощью df.columns:"
   ]
  },
  {
   "cell_type": "code",
   "execution_count": 4,
   "id": "db4a9811",
   "metadata": {},
   "outputs": [
    {
     "data": {
      "text/plain": [
       "Index(['  userID', 'trackname', 'Artistname', 'genre', '  City  ', 'time',\n",
       "       'Dayweek;;'],\n",
       "      dtype='object')"
      ]
     },
     "execution_count": 4,
     "metadata": {},
     "output_type": "execute_result"
    }
   ],
   "source": [
    "music_df.columns"
   ]
  },
  {
   "cell_type": "markdown",
   "id": "d03cde1d",
   "metadata": {},
   "source": [
    "Все названия столбцов были приведены к общему виду, были удалены пробелы, из заголовка Dayweek;; были убраны лишние символы:"
   ]
  },
  {
   "cell_type": "code",
   "execution_count": 5,
   "id": "4f45920d",
   "metadata": {},
   "outputs": [
    {
     "data": {
      "text/plain": [
       "Index(['userID', 'trackname', 'artistname', 'genre', 'city', 'time',\n",
       "       'dayweek'],\n",
       "      dtype='object')"
      ]
     },
     "execution_count": 5,
     "metadata": {},
     "output_type": "execute_result"
    }
   ],
   "source": [
    "music_df = music_df.rename(columns={'  userID': 'userID', 'Artistname':\n",
    "'artistname', '  City  ': 'city', 'Dayweek;;': 'dayweek'})\n",
    "music_df.columns"
   ]
  },
  {
   "cell_type": "markdown",
   "id": "82181363",
   "metadata": {},
   "source": [
    "Также уберём все “;” из последнего столбца:"
   ]
  },
  {
   "cell_type": "code",
   "execution_count": 6,
   "id": "934e6258",
   "metadata": {},
   "outputs": [
    {
     "data": {
      "text/html": [
       "<div>\n",
       "<style scoped>\n",
       "    .dataframe tbody tr th:only-of-type {\n",
       "        vertical-align: middle;\n",
       "    }\n",
       "\n",
       "    .dataframe tbody tr th {\n",
       "        vertical-align: top;\n",
       "    }\n",
       "\n",
       "    .dataframe thead th {\n",
       "        text-align: right;\n",
       "    }\n",
       "</style>\n",
       "<table border=\"1\" class=\"dataframe\">\n",
       "  <thead>\n",
       "    <tr style=\"text-align: right;\">\n",
       "      <th></th>\n",
       "      <th>userID</th>\n",
       "      <th>trackname</th>\n",
       "      <th>artistname</th>\n",
       "      <th>genre</th>\n",
       "      <th>city</th>\n",
       "      <th>time</th>\n",
       "      <th>dayweek</th>\n",
       "    </tr>\n",
       "  </thead>\n",
       "  <tbody>\n",
       "    <tr>\n",
       "      <th>0</th>\n",
       "      <td>FFB692EC</td>\n",
       "      <td>Kamigata To Boots</td>\n",
       "      <td>The Mass Missile</td>\n",
       "      <td>rock</td>\n",
       "      <td>Saint-Petersburg</td>\n",
       "      <td>20:28:33</td>\n",
       "      <td>Wednesday</td>\n",
       "    </tr>\n",
       "    <tr>\n",
       "      <th>1</th>\n",
       "      <td>55204538</td>\n",
       "      <td>Delayed Because of Accident</td>\n",
       "      <td>Andreas Rönnberg</td>\n",
       "      <td>rock</td>\n",
       "      <td>Moscow</td>\n",
       "      <td>14:07:09</td>\n",
       "      <td>Friday</td>\n",
       "    </tr>\n",
       "    <tr>\n",
       "      <th>2</th>\n",
       "      <td>20EC38</td>\n",
       "      <td>Funiculì funiculà</td>\n",
       "      <td>Mario Lanza</td>\n",
       "      <td>pop</td>\n",
       "      <td>Saint-Petersburg</td>\n",
       "      <td>20:58:07</td>\n",
       "      <td>Wednesday</td>\n",
       "    </tr>\n",
       "    <tr>\n",
       "      <th>3</th>\n",
       "      <td>A3DD03C9</td>\n",
       "      <td>Dragons in the Sunset</td>\n",
       "      <td>Fire + Ice</td>\n",
       "      <td>folk</td>\n",
       "      <td>Saint-Petersburg</td>\n",
       "      <td>08:37:09</td>\n",
       "      <td>Monday</td>\n",
       "    </tr>\n",
       "    <tr>\n",
       "      <th>4</th>\n",
       "      <td>E2DC1FAE</td>\n",
       "      <td>Soul People</td>\n",
       "      <td>Space Echo</td>\n",
       "      <td>dance</td>\n",
       "      <td>Moscow</td>\n",
       "      <td>08:34:34</td>\n",
       "      <td>Monday</td>\n",
       "    </tr>\n",
       "  </tbody>\n",
       "</table>\n",
       "</div>"
      ],
      "text/plain": [
       "     userID                    trackname        artistname  genre  \\\n",
       "0  FFB692EC            Kamigata To Boots  The Mass Missile   rock   \n",
       "1  55204538  Delayed Because of Accident  Andreas Rönnberg   rock   \n",
       "2    20EC38            Funiculì funiculà       Mario Lanza    pop   \n",
       "3  A3DD03C9        Dragons in the Sunset        Fire + Ice   folk   \n",
       "4  E2DC1FAE                  Soul People        Space Echo  dance   \n",
       "\n",
       "               city      time    dayweek  \n",
       "0  Saint-Petersburg  20:28:33  Wednesday  \n",
       "1            Moscow  14:07:09     Friday  \n",
       "2  Saint-Petersburg  20:58:07  Wednesday  \n",
       "3  Saint-Petersburg  08:37:09     Monday  \n",
       "4            Moscow  08:34:34     Monday  "
      ]
     },
     "execution_count": 6,
     "metadata": {},
     "output_type": "execute_result"
    }
   ],
   "source": [
    "music_df['dayweek'] = music_df['dayweek'].str.replace(';', '')\n",
    "music_df.head(5)"
   ]
  },
  {
   "cell_type": "markdown",
   "id": "8e81e086",
   "metadata": {},
   "source": [
    "Просмотрим количество пропущеных значений в столбцах:"
   ]
  },
  {
   "cell_type": "code",
   "execution_count": 7,
   "id": "72d53d7a",
   "metadata": {},
   "outputs": [
    {
     "data": {
      "text/plain": [
       "userID           0\n",
       "trackname     1959\n",
       "artistname    7885\n",
       "genre         1923\n",
       "city           728\n",
       "time           728\n",
       "dayweek        730\n",
       "dtype: int64"
      ]
     },
     "execution_count": 7,
     "metadata": {},
     "output_type": "execute_result"
    }
   ],
   "source": [
    "music_df.isna().sum()"
   ]
  },
  {
   "cell_type": "markdown",
   "id": "05d9c7f5",
   "metadata": {},
   "source": [
    "Удалим строки с пропусками в столбцах “genre” и “dayweek”, так как данные в данных столбцах могут быть важными для обработки. Данные строки включают все пропуски столбцов “city” и “time”:"
   ]
  },
  {
   "cell_type": "code",
   "execution_count": 8,
   "id": "e7bd18c7",
   "metadata": {},
   "outputs": [
    {
     "name": "stdout",
     "output_type": "stream",
     "text": [
      "userID           0\n",
      "trackname      570\n",
      "artistname    6326\n",
      "genre            0\n",
      "city             0\n",
      "time             0\n",
      "dayweek          0\n",
      "dtype: int64\n"
     ]
    }
   ],
   "source": [
    "music_df = music_df.dropna(subset=['genre', 'dayweek'])\n",
    "print(music_df.isna().sum())"
   ]
  },
  {
   "cell_type": "markdown",
   "id": "05d8384e",
   "metadata": {},
   "source": [
    "После заменим пропущенные значения в столбцах “artistname” и “trackname” на “uncnown”, поскольку это позволит обрабатывать данные, как неизвестные:"
   ]
  },
  {
   "cell_type": "code",
   "execution_count": 9,
   "id": "c69437b1",
   "metadata": {},
   "outputs": [
    {
     "name": "stdout",
     "output_type": "stream",
     "text": [
      "userID        0\n",
      "trackname     0\n",
      "artistname    0\n",
      "genre         0\n",
      "city          0\n",
      "time          0\n",
      "dayweek       0\n",
      "dtype: int64\n"
     ]
    }
   ],
   "source": [
    "music_df['artistname'] = music_df['artistname'].fillna(\"unknown\")\n",
    "music_df['trackname'] = music_df['trackname'].fillna(\"unknown\")\n",
    "print(music_df.isna().sum())"
   ]
  },
  {
   "cell_type": "markdown",
   "id": "d3eab028",
   "metadata": {},
   "source": [
    "Проверим данные на наличие дубликатов:"
   ]
  },
  {
   "cell_type": "code",
   "execution_count": 10,
   "id": "1588dc1b",
   "metadata": {},
   "outputs": [
    {
     "name": "stdout",
     "output_type": "stream",
     "text": [
      "3724\n"
     ]
    }
   ],
   "source": [
    "print(music_df.duplicated().sum())"
   ]
  },
  {
   "cell_type": "markdown",
   "id": "f0e588a6",
   "metadata": {},
   "source": [
    "Удалим все явные дубликаты:"
   ]
  },
  {
   "cell_type": "code",
   "execution_count": 11,
   "id": "b4f493ae",
   "metadata": {},
   "outputs": [
    {
     "name": "stdout",
     "output_type": "stream",
     "text": [
      "0\n"
     ]
    }
   ],
   "source": [
    "music_df = music_df.drop_duplicates().reset_index()\n",
    "print(music_df.duplicated().sum())"
   ]
  },
  {
   "cell_type": "markdown",
   "id": "f1d40edc",
   "metadata": {},
   "source": [
    "Проверим столбцы \"city\", \"dayweek\" и \"genre\" на наличие неявных дубликатов:"
   ]
  },
  {
   "cell_type": "code",
   "execution_count": 12,
   "id": "68129937",
   "metadata": {},
   "outputs": [
    {
     "name": "stdout",
     "output_type": "stream",
     "text": [
      "['Saint-Petersburg' 'Moscow']\n",
      "['Wednesday' 'Friday' 'Monday']\n",
      "['rock' 'pop' 'folk' 'dance' 'rusrap' 'ruspop' 'world' 'electronic'\n",
      " 'alternative' 'children' 'rnb' 'hip' 'jazz' 'postrock' 'latin'\n",
      " 'classical' 'metal' 'reggae' 'tatar' 'blues' 'instrumental' 'rusrock'\n",
      " 'dnb' 'türk' 'post' 'country' 'psychedelic' 'conjazz' 'indie'\n",
      " 'posthardcore' 'local' 'avantgarde' 'punk' 'videogame' 'techno' 'house'\n",
      " 'christmas' 'melodic' 'caucasian' 'reggaeton' 'soundtrack' 'singer' 'ska'\n",
      " 'shanson' 'ambient' 'film' 'western' 'rap' 'beats' \"hard'n'heavy\"\n",
      " 'progmetal' 'minimal' 'contemporary' 'new' 'soul' 'holiday' 'german'\n",
      " 'tropical' 'fairytail' 'spiritual' 'urban' 'gospel' 'nujazz' 'folkmetal'\n",
      " 'trance' 'miscellaneous' 'anime' 'hardcore' 'progressive' 'chanson'\n",
      " 'numetal' 'vocal' 'estrada' 'russian' 'classicmetal' 'dubstep' 'club'\n",
      " 'deep' 'southern' 'black' 'folkrock' 'fitness' 'french' 'disco'\n",
      " 'religious' 'hiphop' 'drum' 'extrememetal' 'türkçe' 'experimental' 'easy'\n",
      " 'metalcore' 'modern' 'argentinetango' 'old' 'breaks' 'eurofolk'\n",
      " 'stonerrock' 'industrial' 'funk' 'jpop' 'middle' 'variété' 'other'\n",
      " 'adult' 'christian' 'gothic' 'international' 'muslim' 'relax' 'schlager'\n",
      " 'caribbean' 'ukrrock' 'nu' 'breakbeat' 'comedy' 'chill' 'newage'\n",
      " 'specialty' 'uzbek' 'k-pop' 'balkan' 'chinese' 'meditative' 'dub' 'power'\n",
      " 'death' 'grime' 'arabesk' 'romance' 'flamenco' 'leftfield' 'european'\n",
      " 'tech' 'newwave' 'dancehall' 'mpb' 'piano' 'top' 'bigroom' 'opera'\n",
      " 'celtic' 'tradjazz' 'acoustic' 'epicmetal' 'hip-hop' 'historisch'\n",
      " 'downbeat' 'downtempo' 'africa' 'audiobook' 'jewish' 'deutschrock'\n",
      " 'eastern' 'action' 'future' 'electropop' 'folklore' 'bollywood'\n",
      " 'marschmusik' 'rnr' 'karaoke' 'indian' 'rancheras' 'электроника'\n",
      " 'afrikaans' 'tango' 'rhythm' 'sound' 'deutschspr' 'trip' 'lovers'\n",
      " 'choral' 'dancepop' 'podcasts' 'retro' 'smooth' 'mexican' 'brazilian'\n",
      " 'ïîï' 'mood' 'surf' 'author' 'gangsta' 'triphop' 'inspirational' 'idm'\n",
      " 'ethnic' 'bluegrass' 'broadway' 'animated' 'americana' 'karadeniz'\n",
      " 'rockabilly' 'colombian' 'self' 'hop' 'synthrock' 'sertanejo' 'japanese'\n",
      " 'canzone' 'swing' 'lounge' 'sport' 'korean' 'ragga' 'traditional'\n",
      " 'frankreich' 'alternativepunk' 'emo' 'laiko' 'cantopop' 'glitch'\n",
      " 'documentary' 'rockalternative' 'thrash' 'hymn' 'oceania' 'rockother'\n",
      " 'popeurodance' 'dark' 'vi' 'grunge' 'hardstyle' 'samba' 'garage' 'soft'\n",
      " 'art' 'folktronica' 'entehno' 'mediterranean' 'chamber' 'cuban'\n",
      " 'taraftar' 'rockindie' 'gypsy' 'hardtechno' 'shoegazing' 'skarock'\n",
      " 'bossa' 'salsa' 'latino' 'worldbeat' 'malaysian' 'baile' 'ghazal'\n",
      " 'loungeelectronic' 'arabic' 'popelectronic' 'acid' 'kayokyoku'\n",
      " 'neoklassik' 'tribal' 'tanzorchester' 'native' 'independent' 'cantautori'\n",
      " 'handsup' 'poprussian' 'punjabi' 'synthpop' 'rave' 'französisch'\n",
      " 'quebecois' 'speech' 'soulful' 'teen' 'jam' 'ram' 'horror' 'scenic'\n",
      " 'orchestral' 'neue' 'roots' 'slow' 'jungle' 'indipop' 'axé' 'fado'\n",
      " 'showtunes' 'arena' 'irish' 'mandopop' 'forró' 'popdance' 'dirty'\n",
      " 'regional']\n"
     ]
    }
   ],
   "source": [
    "print(music_df['city'].unique())\n",
    "print(music_df['dayweek'].unique())\n",
    "print(music_df['genre'].unique())"
   ]
  },
  {
   "cell_type": "markdown",
   "id": "13a05a2c",
   "metadata": {},
   "source": [
    "Все типы данных соответствуют действительности За исключением столбца time, который имеет текстово-символьный тип данных \"object\". К сожалению, pandas не содержит тип данных для обозначение времени без даты. Поскольку даты нам не даны мы не можем использовать тип данных datetime. Использовать стандартные даты мы также не можем так-как в наборе дан столбец с днями недели:"
   ]
  },
  {
   "cell_type": "code",
   "execution_count": 13,
   "id": "60ab14a7",
   "metadata": {},
   "outputs": [
    {
     "name": "stdout",
     "output_type": "stream",
     "text": [
      "<class 'pandas.core.frame.DataFrame'>\n",
      "RangeIndex: 59566 entries, 0 to 59565\n",
      "Data columns (total 8 columns):\n",
      " #   Column      Non-Null Count  Dtype \n",
      "---  ------      --------------  ----- \n",
      " 0   index       59566 non-null  int64 \n",
      " 1   userID      59566 non-null  object\n",
      " 2   trackname   59566 non-null  object\n",
      " 3   artistname  59566 non-null  object\n",
      " 4   genre       59566 non-null  object\n",
      " 5   city        59566 non-null  object\n",
      " 6   time        59566 non-null  object\n",
      " 7   dayweek     59566 non-null  object\n",
      "dtypes: int64(1), object(7)\n",
      "memory usage: 3.6+ MB\n"
     ]
    }
   ],
   "source": [
    "music_df.info()"
   ]
  },
  {
   "cell_type": "code",
   "execution_count": 14,
   "id": "72159060",
   "metadata": {},
   "outputs": [
    {
     "name": "stdout",
     "output_type": "stream",
     "text": [
      "<class 'pandas.core.frame.DataFrame'>\n",
      "RangeIndex: 59566 entries, 0 to 59565\n",
      "Data columns (total 8 columns):\n",
      " #   Column      Non-Null Count  Dtype \n",
      "---  ------      --------------  ----- \n",
      " 0   index       59566 non-null  int64 \n",
      " 1   userID      59566 non-null  object\n",
      " 2   trackname   59566 non-null  object\n",
      " 3   artistname  59566 non-null  object\n",
      " 4   genre       59566 non-null  object\n",
      " 5   city        59566 non-null  object\n",
      " 6   time        59566 non-null  object\n",
      " 7   dayweek     59566 non-null  object\n",
      "dtypes: int64(1), object(7)\n",
      "memory usage: 3.6+ MB\n"
     ]
    }
   ],
   "source": [
    "music_df['time'] = pd.to_datetime(music_df['time'], format='%H:%M:%S')\n",
    "music_df['time'] = music_df['time'].dt.time\n",
    "music_df.info()"
   ]
  },
  {
   "cell_type": "markdown",
   "id": "44aeb353",
   "metadata": {},
   "source": [
    "Данные обработаны:"
   ]
  },
  {
   "cell_type": "code",
   "execution_count": 15,
   "id": "4450f739",
   "metadata": {},
   "outputs": [
    {
     "data": {
      "text/html": [
       "<div>\n",
       "<style scoped>\n",
       "    .dataframe tbody tr th:only-of-type {\n",
       "        vertical-align: middle;\n",
       "    }\n",
       "\n",
       "    .dataframe tbody tr th {\n",
       "        vertical-align: top;\n",
       "    }\n",
       "\n",
       "    .dataframe thead th {\n",
       "        text-align: right;\n",
       "    }\n",
       "</style>\n",
       "<table border=\"1\" class=\"dataframe\">\n",
       "  <thead>\n",
       "    <tr style=\"text-align: right;\">\n",
       "      <th></th>\n",
       "      <th>index</th>\n",
       "      <th>userID</th>\n",
       "      <th>trackname</th>\n",
       "      <th>artistname</th>\n",
       "      <th>genre</th>\n",
       "      <th>city</th>\n",
       "      <th>time</th>\n",
       "      <th>dayweek</th>\n",
       "    </tr>\n",
       "  </thead>\n",
       "  <tbody>\n",
       "    <tr>\n",
       "      <th>0</th>\n",
       "      <td>0</td>\n",
       "      <td>FFB692EC</td>\n",
       "      <td>Kamigata To Boots</td>\n",
       "      <td>The Mass Missile</td>\n",
       "      <td>rock</td>\n",
       "      <td>Saint-Petersburg</td>\n",
       "      <td>20:28:33</td>\n",
       "      <td>Wednesday</td>\n",
       "    </tr>\n",
       "    <tr>\n",
       "      <th>1</th>\n",
       "      <td>1</td>\n",
       "      <td>55204538</td>\n",
       "      <td>Delayed Because of Accident</td>\n",
       "      <td>Andreas Rönnberg</td>\n",
       "      <td>rock</td>\n",
       "      <td>Moscow</td>\n",
       "      <td>14:07:09</td>\n",
       "      <td>Friday</td>\n",
       "    </tr>\n",
       "    <tr>\n",
       "      <th>2</th>\n",
       "      <td>2</td>\n",
       "      <td>20EC38</td>\n",
       "      <td>Funiculì funiculà</td>\n",
       "      <td>Mario Lanza</td>\n",
       "      <td>pop</td>\n",
       "      <td>Saint-Petersburg</td>\n",
       "      <td>20:58:07</td>\n",
       "      <td>Wednesday</td>\n",
       "    </tr>\n",
       "    <tr>\n",
       "      <th>3</th>\n",
       "      <td>3</td>\n",
       "      <td>A3DD03C9</td>\n",
       "      <td>Dragons in the Sunset</td>\n",
       "      <td>Fire + Ice</td>\n",
       "      <td>folk</td>\n",
       "      <td>Saint-Petersburg</td>\n",
       "      <td>08:37:09</td>\n",
       "      <td>Monday</td>\n",
       "    </tr>\n",
       "    <tr>\n",
       "      <th>4</th>\n",
       "      <td>4</td>\n",
       "      <td>E2DC1FAE</td>\n",
       "      <td>Soul People</td>\n",
       "      <td>Space Echo</td>\n",
       "      <td>dance</td>\n",
       "      <td>Moscow</td>\n",
       "      <td>08:34:34</td>\n",
       "      <td>Monday</td>\n",
       "    </tr>\n",
       "  </tbody>\n",
       "</table>\n",
       "</div>"
      ],
      "text/plain": [
       "   index    userID                    trackname        artistname  genre  \\\n",
       "0      0  FFB692EC            Kamigata To Boots  The Mass Missile   rock   \n",
       "1      1  55204538  Delayed Because of Accident  Andreas Rönnberg   rock   \n",
       "2      2    20EC38            Funiculì funiculà       Mario Lanza    pop   \n",
       "3      3  A3DD03C9        Dragons in the Sunset        Fire + Ice   folk   \n",
       "4      4  E2DC1FAE                  Soul People        Space Echo  dance   \n",
       "\n",
       "               city      time    dayweek  \n",
       "0  Saint-Petersburg  20:28:33  Wednesday  \n",
       "1            Moscow  14:07:09     Friday  \n",
       "2  Saint-Petersburg  20:58:07  Wednesday  \n",
       "3  Saint-Petersburg  08:37:09     Monday  \n",
       "4            Moscow  08:34:34     Monday  "
      ]
     },
     "execution_count": 15,
     "metadata": {},
     "output_type": "execute_result"
    }
   ],
   "source": [
    "music_df.head(5)"
   ]
  },
  {
   "cell_type": "markdown",
   "id": "afcd8176",
   "metadata": {},
   "source": [
    "# Анализ данных"
   ]
  },
  {
   "cell_type": "markdown",
   "id": "648b029f",
   "metadata": {},
   "source": [
    "Создадим сводную таблицу, содержащую минимальное время прослушивания музыки для каждого дня в городах:"
   ]
  },
  {
   "cell_type": "code",
   "execution_count": 16,
   "id": "e426d9fb",
   "metadata": {},
   "outputs": [
    {
     "data": {
      "text/html": [
       "<div>\n",
       "<style scoped>\n",
       "    .dataframe tbody tr th:only-of-type {\n",
       "        vertical-align: middle;\n",
       "    }\n",
       "\n",
       "    .dataframe tbody tr th {\n",
       "        vertical-align: top;\n",
       "    }\n",
       "\n",
       "    .dataframe thead th {\n",
       "        text-align: right;\n",
       "    }\n",
       "</style>\n",
       "<table border=\"1\" class=\"dataframe\">\n",
       "  <thead>\n",
       "    <tr style=\"text-align: right;\">\n",
       "      <th>dayweek</th>\n",
       "      <th>Friday</th>\n",
       "      <th>Monday</th>\n",
       "      <th>Wednesday</th>\n",
       "    </tr>\n",
       "    <tr>\n",
       "      <th>city</th>\n",
       "      <th></th>\n",
       "      <th></th>\n",
       "      <th></th>\n",
       "    </tr>\n",
       "  </thead>\n",
       "  <tbody>\n",
       "    <tr>\n",
       "      <th>Moscow</th>\n",
       "      <td>08:00:03</td>\n",
       "      <td>08:00:03</td>\n",
       "      <td>08:00:04</td>\n",
       "    </tr>\n",
       "    <tr>\n",
       "      <th>Saint-Petersburg</th>\n",
       "      <td>08:00:00</td>\n",
       "      <td>08:00:00</td>\n",
       "      <td>08:00:02</td>\n",
       "    </tr>\n",
       "  </tbody>\n",
       "</table>\n",
       "</div>"
      ],
      "text/plain": [
       "dayweek             Friday    Monday Wednesday\n",
       "city                                          \n",
       "Moscow            08:00:03  08:00:03  08:00:04\n",
       "Saint-Petersburg  08:00:00  08:00:00  08:00:02"
      ]
     },
     "execution_count": 16,
     "metadata": {},
     "output_type": "execute_result"
    }
   ],
   "source": [
    "pd.pivot_table(music_df, index='city', columns='dayweek', values='time', aggfunc='min')"
   ]
  },
  {
   "cell_type": "markdown",
   "id": "da975e76",
   "metadata": {},
   "source": [
    "Все минимальные времена находятся возле восьми часов. Вероятно, данные отсчитывались именно от этого времени."
   ]
  },
  {
   "cell_type": "markdown",
   "id": "afb5c60e",
   "metadata": {},
   "source": [
    "Сгруппируем данные по жанру с применением агрегатной функции sum, чтобы вывести топ 10 прослушиваний каждого жанра:"
   ]
  },
  {
   "cell_type": "code",
   "execution_count": 17,
   "id": "6f0619f3",
   "metadata": {},
   "outputs": [
    {
     "data": {
      "text/plain": [
       "genre\n",
       "pop            8250\n",
       "dance          6363\n",
       "rock           5831\n",
       "electronic     5518\n",
       "hip            2974\n",
       "alternative    2024\n",
       "classical      2009\n",
       "world          1936\n",
       "ruspop         1903\n",
       "rusrap         1724\n",
       "Name: index, dtype: int64"
      ]
     },
     "execution_count": 17,
     "metadata": {},
     "output_type": "execute_result"
    }
   ],
   "source": [
    "music_df.groupby('genre')['index'].count().sort_values(ascending = False).head(10)"
   ]
  },
  {
   "cell_type": "markdown",
   "id": "b1bd5da9",
   "metadata": {},
   "source": [
    "Самым популярным жанром является pop"
   ]
  },
  {
   "cell_type": "markdown",
   "id": "95de2123",
   "metadata": {},
   "source": [
    "Создадим сводную таблицу, показывающую количество прослушиваний по дням недели:"
   ]
  },
  {
   "cell_type": "code",
   "execution_count": 18,
   "id": "6fb912cc",
   "metadata": {},
   "outputs": [
    {
     "data": {
      "text/html": [
       "<div>\n",
       "<style scoped>\n",
       "    .dataframe tbody tr th:only-of-type {\n",
       "        vertical-align: middle;\n",
       "    }\n",
       "\n",
       "    .dataframe tbody tr th {\n",
       "        vertical-align: top;\n",
       "    }\n",
       "\n",
       "    .dataframe thead th {\n",
       "        text-align: right;\n",
       "    }\n",
       "</style>\n",
       "<table border=\"1\" class=\"dataframe\">\n",
       "  <thead>\n",
       "    <tr style=\"text-align: right;\">\n",
       "      <th></th>\n",
       "      <th>index</th>\n",
       "    </tr>\n",
       "    <tr>\n",
       "      <th>dayweek</th>\n",
       "      <th></th>\n",
       "    </tr>\n",
       "  </thead>\n",
       "  <tbody>\n",
       "    <tr>\n",
       "      <th>Friday</th>\n",
       "      <td>21265</td>\n",
       "    </tr>\n",
       "    <tr>\n",
       "      <th>Monday</th>\n",
       "      <td>20696</td>\n",
       "    </tr>\n",
       "    <tr>\n",
       "      <th>Wednesday</th>\n",
       "      <td>17605</td>\n",
       "    </tr>\n",
       "  </tbody>\n",
       "</table>\n",
       "</div>"
      ],
      "text/plain": [
       "           index\n",
       "dayweek         \n",
       "Friday     21265\n",
       "Monday     20696\n",
       "Wednesday  17605"
      ]
     },
     "execution_count": 18,
     "metadata": {},
     "output_type": "execute_result"
    }
   ],
   "source": [
    "pd.pivot_table(music_df, index='dayweek', values='index', aggfunc='count')"
   ]
  },
  {
   "cell_type": "markdown",
   "id": "8cea9b29",
   "metadata": {},
   "source": [
    "**Вывод:**\n",
    "В ходе выполнения лабораторной работы были получены навыки обработки данных и их первичного анализа. Для обработки при помощи библиотеки pandas был загружен набор данных с прослушанными треками пользователя. Были удалены пропуски в данных, исправлены названия столбцов и удалены дубликаты. Были придуманы и построены две сводные таблицы и произведена группировка данных по жанру. Из сводной таблицы минимальных времён прослушивания музыки для каждого дня в городах видно, что как правило это значения возле 8 часов. Скорее всего в это время начинался сбор информации. Из группировки данных по жанру с применением агрегатной функции sum мы узнали, что самым популярным жанром ожидаемо является “pop”. Из сводной таблицы, показывающей количество прослушиваний по дням недели можно увидеть, что чаще всего пользователи прослушивали музыку в пятницу."
   ]
  },
  {
   "cell_type": "markdown",
   "id": "aea3a93f",
   "metadata": {},
   "source": [
    "# Дополнительное задание\n",
    "#### выберите топ 5 жанров по кол-ву прослушиваний и создайте сводную таблицу с количеством прослушиваний этих жанров для каждого города"
   ]
  },
  {
   "cell_type": "markdown",
   "id": "78713b2a",
   "metadata": {},
   "source": [
    "Выберем топ 5 жанров по количеству прослушиваний:"
   ]
  },
  {
   "cell_type": "code",
   "execution_count": 19,
   "id": "af7d6d1b",
   "metadata": {},
   "outputs": [
    {
     "data": {
      "text/html": [
       "<div>\n",
       "<style scoped>\n",
       "    .dataframe tbody tr th:only-of-type {\n",
       "        vertical-align: middle;\n",
       "    }\n",
       "\n",
       "    .dataframe tbody tr th {\n",
       "        vertical-align: top;\n",
       "    }\n",
       "\n",
       "    .dataframe thead th {\n",
       "        text-align: right;\n",
       "    }\n",
       "</style>\n",
       "<table border=\"1\" class=\"dataframe\">\n",
       "  <thead>\n",
       "    <tr style=\"text-align: right;\">\n",
       "      <th></th>\n",
       "      <th>index</th>\n",
       "    </tr>\n",
       "    <tr>\n",
       "      <th>genre</th>\n",
       "      <th></th>\n",
       "    </tr>\n",
       "  </thead>\n",
       "  <tbody>\n",
       "    <tr>\n",
       "      <th>pop</th>\n",
       "      <td>8250</td>\n",
       "    </tr>\n",
       "    <tr>\n",
       "      <th>dance</th>\n",
       "      <td>6363</td>\n",
       "    </tr>\n",
       "    <tr>\n",
       "      <th>rock</th>\n",
       "      <td>5831</td>\n",
       "    </tr>\n",
       "    <tr>\n",
       "      <th>electronic</th>\n",
       "      <td>5518</td>\n",
       "    </tr>\n",
       "    <tr>\n",
       "      <th>hip</th>\n",
       "      <td>2974</td>\n",
       "    </tr>\n",
       "  </tbody>\n",
       "</table>\n",
       "</div>"
      ],
      "text/plain": [
       "            index\n",
       "genre            \n",
       "pop          8250\n",
       "dance        6363\n",
       "rock         5831\n",
       "electronic   5518\n",
       "hip          2974"
      ]
     },
     "execution_count": 19,
     "metadata": {},
     "output_type": "execute_result"
    }
   ],
   "source": [
    "top_genre_df = music_df.groupby('genre')['index'].count().sort_values(ascending = False).head(5)\n",
    "top_genres = top_genre_df.index.values.tolist()\n",
    "top_genre_df.to_frame()"
   ]
  },
  {
   "cell_type": "markdown",
   "id": "fdfcfb49",
   "metadata": {},
   "source": [
    "Создадим сводную таблицу с количеством прослушиваний топа 5 жанров для каждого города:"
   ]
  },
  {
   "cell_type": "code",
   "execution_count": 20,
   "id": "21d4b8c2",
   "metadata": {},
   "outputs": [
    {
     "data": {
      "text/html": [
       "<div>\n",
       "<style scoped>\n",
       "    .dataframe tbody tr th:only-of-type {\n",
       "        vertical-align: middle;\n",
       "    }\n",
       "\n",
       "    .dataframe tbody tr th {\n",
       "        vertical-align: top;\n",
       "    }\n",
       "\n",
       "    .dataframe thead th {\n",
       "        text-align: right;\n",
       "    }\n",
       "</style>\n",
       "<table border=\"1\" class=\"dataframe\">\n",
       "  <thead>\n",
       "    <tr style=\"text-align: right;\">\n",
       "      <th></th>\n",
       "      <th></th>\n",
       "      <th>index</th>\n",
       "    </tr>\n",
       "    <tr>\n",
       "      <th>genre</th>\n",
       "      <th>city</th>\n",
       "      <th></th>\n",
       "    </tr>\n",
       "  </thead>\n",
       "  <tbody>\n",
       "    <tr>\n",
       "      <th rowspan=\"2\" valign=\"top\">dance</th>\n",
       "      <th>Moscow</th>\n",
       "      <td>4432</td>\n",
       "    </tr>\n",
       "    <tr>\n",
       "      <th>Saint-Petersburg</th>\n",
       "      <td>1931</td>\n",
       "    </tr>\n",
       "    <tr>\n",
       "      <th rowspan=\"2\" valign=\"top\">electronic</th>\n",
       "      <th>Moscow</th>\n",
       "      <td>3784</td>\n",
       "    </tr>\n",
       "    <tr>\n",
       "      <th>Saint-Petersburg</th>\n",
       "      <td>1734</td>\n",
       "    </tr>\n",
       "    <tr>\n",
       "      <th rowspan=\"2\" valign=\"top\">hip</th>\n",
       "      <th>Moscow</th>\n",
       "      <td>2040</td>\n",
       "    </tr>\n",
       "    <tr>\n",
       "      <th>Saint-Petersburg</th>\n",
       "      <td>934</td>\n",
       "    </tr>\n",
       "    <tr>\n",
       "      <th rowspan=\"2\" valign=\"top\">pop</th>\n",
       "      <th>Moscow</th>\n",
       "      <td>5840</td>\n",
       "    </tr>\n",
       "    <tr>\n",
       "      <th>Saint-Petersburg</th>\n",
       "      <td>2410</td>\n",
       "    </tr>\n",
       "    <tr>\n",
       "      <th rowspan=\"2\" valign=\"top\">rock</th>\n",
       "      <th>Moscow</th>\n",
       "      <td>3956</td>\n",
       "    </tr>\n",
       "    <tr>\n",
       "      <th>Saint-Petersburg</th>\n",
       "      <td>1875</td>\n",
       "    </tr>\n",
       "  </tbody>\n",
       "</table>\n",
       "</div>"
      ],
      "text/plain": [
       "                             index\n",
       "genre      city                   \n",
       "dance      Moscow             4432\n",
       "           Saint-Petersburg   1931\n",
       "electronic Moscow             3784\n",
       "           Saint-Petersburg   1734\n",
       "hip        Moscow             2040\n",
       "           Saint-Petersburg    934\n",
       "pop        Moscow             5840\n",
       "           Saint-Petersburg   2410\n",
       "rock       Moscow             3956\n",
       "           Saint-Petersburg   1875"
      ]
     },
     "execution_count": 20,
     "metadata": {},
     "output_type": "execute_result"
    }
   ],
   "source": [
    "pd.pivot_table(music_df[music_df.genre.isin(top_genres)], index=['genre', 'city'], values='index', aggfunc='count')"
   ]
  },
  {
   "cell_type": "code",
   "execution_count": null,
   "id": "b6031255",
   "metadata": {},
   "outputs": [],
   "source": []
  }
 ],
 "metadata": {
  "kernelspec": {
   "display_name": "Python 3 (ipykernel)",
   "language": "python",
   "name": "python3"
  },
  "language_info": {
   "codemirror_mode": {
    "name": "ipython",
    "version": 3
   },
   "file_extension": ".py",
   "mimetype": "text/x-python",
   "name": "python",
   "nbconvert_exporter": "python",
   "pygments_lexer": "ipython3",
   "version": "3.9.12"
  }
 },
 "nbformat": 4,
 "nbformat_minor": 5
}
